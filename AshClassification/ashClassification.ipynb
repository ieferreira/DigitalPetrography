{
 "cells": [
  {
   "cell_type": "markdown",
   "source": [
    "### Shoji et al, 2018. Volcanic ash classification using CNN"
   ],
   "metadata": {}
  },
  {
   "cell_type": "markdown",
   "source": [
    "### Definition of batch size and classes"
   ],
   "metadata": {}
  },
  {
   "cell_type": "code",
   "execution_count": 235,
   "source": [
    "batch_size = 40"
   ],
   "outputs": [],
   "metadata": {}
  },
  {
   "cell_type": "code",
   "execution_count": 236,
   "source": [
    "ls = [\"blocky\", \"vesicular\", \"rounded\", \"elongated\"]"
   ],
   "outputs": [],
   "metadata": {}
  },
  {
   "cell_type": "markdown",
   "source": [
    "### Separation in train-test"
   ],
   "metadata": {}
  },
  {
   "cell_type": "code",
   "execution_count": 291,
   "source": [
    "from tensorflow.keras.preprocessing.image import ImageDataGenerator\r\n",
    "\r\n",
    "# preprocess and augmentate images dataset\r\n",
    "\r\n",
    "train_datagen = ImageDataGenerator(\r\n",
    "        validation_split=0.1,\r\n",
    "        rescale=1/255,\r\n",
    "        horizontal_flip=True,\r\n",
    "        fill_mode='nearest')\r\n",
    "\r\n",
    "# split in train test\r\n",
    "train_generator = train_datagen.flow_from_directory(\r\n",
    "        '',  # same dir as notebook\r\n",
    "        target_size=(50, 50),  #reescalar\r\n",
    "        batch_size=batch_size,\r\n",
    "        # specify classes\r\n",
    "        classes = ls,\r\n",
    "        # use as categorical classification\r\n",
    "        class_mode='categorical',\r\n",
    "        subset='training')\r\n",
    "\r\n",
    "val_generator = train_datagen.flow_from_directory(\r\n",
    "\r\n",
    "        '',  # same dir as notebook\r\n",
    "        target_size=(50, 50),  # rescale to size of images\r\n",
    "        batch_size=batch_size,\r\n",
    "        # especificar clases obtenidas\r\n",
    "        classes = ls,\r\n",
    "        # use as categorical classification\r\n",
    "        class_mode='categorical',\r\n",
    "        subset='validation')"
   ],
   "outputs": [
    {
     "output_type": "stream",
     "name": "stdout",
     "text": [
      "Found 882 images belonging to 4 classes.\n",
      "Found 95 images belonging to 4 classes.\n"
     ]
    }
   ],
   "metadata": {}
  },
  {
   "cell_type": "markdown",
   "source": [
    "### tf imports and GPU configuration"
   ],
   "metadata": {}
  },
  {
   "cell_type": "code",
   "execution_count": 292,
   "source": [
    "import tensorflow as tf \r\n",
    "import keras\r\n",
    "config = tf.compat.v1.ConfigProto()\r\n",
    "config.gpu_options.allow_growth = True\r\n",
    "sess = tf.compat.v1.Session(config=config)\r\n",
    "from PIL import ImageFile\r\n",
    "ImageFile.LOAD_TRUNCATED_IMAGES = True\r\n",
    "\r\n",
    "tf.config.list_physical_devices('GPU')"
   ],
   "outputs": [
    {
     "output_type": "execute_result",
     "data": {
      "text/plain": [
       "[PhysicalDevice(name='/physical_device:GPU:0', device_type='GPU')]"
      ]
     },
     "metadata": {},
     "execution_count": 292
    }
   ],
   "metadata": {}
  },
  {
   "cell_type": "code",
   "execution_count": 293,
   "source": [],
   "outputs": [],
   "metadata": {}
  },
  {
   "cell_type": "markdown",
   "source": [
    "### Model definition \r\n",
    "using 2 convs, 2 poolings, 2 dense layers, a dropout of 0.3 and a final dense layer for the 4 classes"
   ],
   "metadata": {}
  },
  {
   "cell_type": "code",
   "execution_count": 294,
   "source": [
    "model = tf.keras.models.Sequential([\r\n",
    "    # Note the input shape is the desired size of the image 50x50 with 3 bytes color\r\n",
    "    # first convolution\r\n",
    "    tf.keras.layers.Conv2D(16, (9,9),activation=keras.layers.LeakyReLU(alpha=0.3), input_shape=(50, 50, 3)),\r\n",
    "    tf.keras.layers.MaxPooling2D(2, 2),\r\n",
    "    # second convolution\r\n",
    "    tf.keras.layers.Conv2D(32, (7,7),activation=keras.layers.LeakyReLU(alpha=0.3)),\r\n",
    "    tf.keras.layers.MaxPooling2D(2, 2),\r\n",
    "    tf.keras.layers.Flatten(),\r\n",
    "    # dense layers and dropout\r\n",
    "    tf.keras.layers.Dense(80, activation=keras.layers.LeakyReLU(alpha=0.3)),\r\n",
    "    tf.keras.layers.Dropout(0.3), \r\n",
    "    tf.keras.layers.Dense(40, activation=keras.layers.LeakyReLU(alpha=0.3)),\r\n",
    "    # 4 output neurons for 4 classes with the softmax activation\r\n",
    "    tf.keras.layers.Dense(4, activation='softmax')\r\n",
    "])\r\n",
    "\r\n",
    "# flatten, dense, dropout, dense, dropout"
   ],
   "outputs": [],
   "metadata": {}
  },
  {
   "cell_type": "code",
   "execution_count": 295,
   "source": [
    "model.summary()"
   ],
   "outputs": [
    {
     "output_type": "stream",
     "name": "stdout",
     "text": [
      "Model: \"sequential_46\"\n",
      "_________________________________________________________________\n",
      "Layer (type)                 Output Shape              Param #   \n",
      "=================================================================\n",
      "conv2d_89 (Conv2D)           (None, 42, 42, 16)        3904      \n",
      "_________________________________________________________________\n",
      "max_pooling2d_89 (MaxPooling (None, 21, 21, 16)        0         \n",
      "_________________________________________________________________\n",
      "conv2d_90 (Conv2D)           (None, 15, 15, 32)        25120     \n",
      "_________________________________________________________________\n",
      "max_pooling2d_90 (MaxPooling (None, 7, 7, 32)          0         \n",
      "_________________________________________________________________\n",
      "flatten_46 (Flatten)         (None, 1568)              0         \n",
      "_________________________________________________________________\n",
      "dense_107 (Dense)            (None, 80)                125520    \n",
      "_________________________________________________________________\n",
      "dropout_45 (Dropout)         (None, 80)                0         \n",
      "_________________________________________________________________\n",
      "dense_108 (Dense)            (None, 40)                3240      \n",
      "_________________________________________________________________\n",
      "dense_109 (Dense)            (None, 4)                 164       \n",
      "=================================================================\n",
      "Total params: 157,948\n",
      "Trainable params: 157,948\n",
      "Non-trainable params: 0\n",
      "_________________________________________________________________\n"
     ]
    }
   ],
   "metadata": {}
  },
  {
   "cell_type": "markdown",
   "source": [
    "### Training the model for 100 epochs"
   ],
   "metadata": {}
  },
  {
   "cell_type": "code",
   "execution_count": 296,
   "source": [
    "from tensorflow.keras.optimizers import RMSprop\r\n",
    "\r\n",
    "model.compile(loss='categorical_crossentropy',\r\n",
    "              optimizer=RMSprop(lr=0.001),\r\n",
    "              metrics=['acc'])\r\n",
    "n_epochs = 100"
   ],
   "outputs": [],
   "metadata": {}
  },
  {
   "cell_type": "code",
   "execution_count": 297,
   "source": [
    "history = model.fit(\r\n",
    "        train_generator, \r\n",
    "        steps_per_epoch=train_generator.n//batch_size,  \r\n",
    "        epochs=n_epochs,\r\n",
    "        validation_data=val_generator,\r\n",
    "        validation_steps= val_generator.n//batch_size,   \r\n",
    "        verbose=1)"
   ],
   "outputs": [
    {
     "output_type": "stream",
     "name": "stdout",
     "text": [
      "Epoch 1/100\n",
      "22/22 [==============================] - 1s 23ms/step - loss: 1.3303 - acc: 0.3985 - val_loss: 0.8623 - val_acc: 0.6500\n",
      "Epoch 2/100\n",
      "22/22 [==============================] - 0s 15ms/step - loss: 0.8034 - acc: 0.6211 - val_loss: 0.6458 - val_acc: 0.7500\n",
      "Epoch 3/100\n",
      "22/22 [==============================] - 0s 16ms/step - loss: 0.7442 - acc: 0.6788 - val_loss: 0.6097 - val_acc: 0.7625\n",
      "Epoch 4/100\n",
      "22/22 [==============================] - 0s 16ms/step - loss: 0.6658 - acc: 0.7372 - val_loss: 0.4935 - val_acc: 0.8125\n",
      "Epoch 5/100\n",
      "22/22 [==============================] - 0s 16ms/step - loss: 0.6382 - acc: 0.7324 - val_loss: 0.6111 - val_acc: 0.7375\n",
      "Epoch 6/100\n",
      "22/22 [==============================] - 0s 15ms/step - loss: 0.5940 - acc: 0.7536 - val_loss: 0.5666 - val_acc: 0.7750\n",
      "Epoch 7/100\n",
      "22/22 [==============================] - 0s 15ms/step - loss: 0.5855 - acc: 0.7789 - val_loss: 0.5311 - val_acc: 0.8000\n",
      "Epoch 8/100\n",
      "22/22 [==============================] - 0s 16ms/step - loss: 0.5068 - acc: 0.8034 - val_loss: 0.4308 - val_acc: 0.8000\n",
      "Epoch 9/100\n",
      "22/22 [==============================] - 0s 15ms/step - loss: 0.5171 - acc: 0.8079 - val_loss: 0.4592 - val_acc: 0.8375\n",
      "Epoch 10/100\n",
      "22/22 [==============================] - 0s 15ms/step - loss: 0.4579 - acc: 0.7924 - val_loss: 0.4210 - val_acc: 0.8625\n",
      "Epoch 11/100\n",
      "22/22 [==============================] - 0s 16ms/step - loss: 0.5167 - acc: 0.8205 - val_loss: 0.4238 - val_acc: 0.8250\n",
      "Epoch 12/100\n",
      "22/22 [==============================] - 0s 16ms/step - loss: 0.3530 - acc: 0.8718 - val_loss: 0.5086 - val_acc: 0.8000\n",
      "Epoch 13/100\n",
      "22/22 [==============================] - 0s 16ms/step - loss: 0.3713 - acc: 0.8484 - val_loss: 0.4934 - val_acc: 0.8125\n",
      "Epoch 14/100\n",
      "22/22 [==============================] - 0s 16ms/step - loss: 0.3584 - acc: 0.8685 - val_loss: 0.6530 - val_acc: 0.7875\n",
      "Epoch 15/100\n",
      "22/22 [==============================] - 0s 16ms/step - loss: 0.3427 - acc: 0.8484 - val_loss: 0.5556 - val_acc: 0.7625\n",
      "Epoch 16/100\n",
      "22/22 [==============================] - 0s 16ms/step - loss: 0.2872 - acc: 0.9058 - val_loss: 0.4744 - val_acc: 0.8125\n",
      "Epoch 17/100\n",
      "22/22 [==============================] - 0s 15ms/step - loss: 0.2935 - acc: 0.8798 - val_loss: 0.4926 - val_acc: 0.8500\n",
      "Epoch 18/100\n",
      "22/22 [==============================] - 0s 15ms/step - loss: 0.2739 - acc: 0.8836 - val_loss: 0.4875 - val_acc: 0.8625\n",
      "Epoch 19/100\n",
      "22/22 [==============================] - 0s 16ms/step - loss: 0.2726 - acc: 0.8963 - val_loss: 0.4388 - val_acc: 0.8875\n",
      "Epoch 20/100\n",
      "22/22 [==============================] - 0s 16ms/step - loss: 0.2554 - acc: 0.9035 - val_loss: 0.6519 - val_acc: 0.8125\n",
      "Epoch 21/100\n",
      "22/22 [==============================] - 0s 15ms/step - loss: 0.3032 - acc: 0.8846 - val_loss: 0.5228 - val_acc: 0.8250\n",
      "Epoch 22/100\n",
      "22/22 [==============================] - 0s 16ms/step - loss: 0.2050 - acc: 0.9263 - val_loss: 0.3599 - val_acc: 0.8750\n",
      "Epoch 23/100\n",
      "22/22 [==============================] - 0s 16ms/step - loss: 0.2427 - acc: 0.8956 - val_loss: 0.4699 - val_acc: 0.8375\n",
      "Epoch 24/100\n",
      "22/22 [==============================] - 0s 17ms/step - loss: 0.2289 - acc: 0.8998 - val_loss: 0.4256 - val_acc: 0.8875\n",
      "Epoch 25/100\n",
      "22/22 [==============================] - 0s 17ms/step - loss: 0.2040 - acc: 0.9308 - val_loss: 0.5096 - val_acc: 0.8750\n",
      "Epoch 26/100\n",
      "22/22 [==============================] - 0s 15ms/step - loss: 0.2039 - acc: 0.9109 - val_loss: 0.5569 - val_acc: 0.8625\n",
      "Epoch 27/100\n",
      "22/22 [==============================] - 0s 16ms/step - loss: 0.1803 - acc: 0.9284 - val_loss: 0.6706 - val_acc: 0.8125\n",
      "Epoch 28/100\n",
      "22/22 [==============================] - 0s 15ms/step - loss: 0.2120 - acc: 0.9072 - val_loss: 0.5753 - val_acc: 0.8500\n",
      "Epoch 29/100\n",
      "22/22 [==============================] - 0s 16ms/step - loss: 0.1556 - acc: 0.9330 - val_loss: 0.6575 - val_acc: 0.8500\n",
      "Epoch 30/100\n",
      "22/22 [==============================] - 0s 16ms/step - loss: 0.2479 - acc: 0.9074 - val_loss: 0.5387 - val_acc: 0.8500\n",
      "Epoch 31/100\n",
      "22/22 [==============================] - 0s 16ms/step - loss: 0.1677 - acc: 0.9285 - val_loss: 0.5703 - val_acc: 0.8375\n",
      "Epoch 32/100\n",
      "22/22 [==============================] - 0s 16ms/step - loss: 0.1207 - acc: 0.9555 - val_loss: 0.3666 - val_acc: 0.8750\n",
      "Epoch 33/100\n",
      "22/22 [==============================] - 0s 16ms/step - loss: 0.1370 - acc: 0.9400 - val_loss: 1.0183 - val_acc: 0.8250\n",
      "Epoch 34/100\n",
      "22/22 [==============================] - 0s 15ms/step - loss: 0.1971 - acc: 0.9217 - val_loss: 0.3797 - val_acc: 0.8875\n",
      "Epoch 35/100\n",
      "22/22 [==============================] - 0s 16ms/step - loss: 0.1355 - acc: 0.9609 - val_loss: 0.5408 - val_acc: 0.8750\n",
      "Epoch 36/100\n",
      "22/22 [==============================] - 0s 15ms/step - loss: 0.1330 - acc: 0.9542 - val_loss: 0.4614 - val_acc: 0.9125\n",
      "Epoch 37/100\n",
      "22/22 [==============================] - 0s 16ms/step - loss: 0.1177 - acc: 0.9474 - val_loss: 0.4011 - val_acc: 0.8875\n",
      "Epoch 38/100\n",
      "22/22 [==============================] - 0s 16ms/step - loss: 0.1298 - acc: 0.9424 - val_loss: 0.8094 - val_acc: 0.8125\n",
      "Epoch 39/100\n",
      "22/22 [==============================] - 0s 15ms/step - loss: 0.1080 - acc: 0.9548 - val_loss: 0.6614 - val_acc: 0.8625\n",
      "Epoch 40/100\n",
      "22/22 [==============================] - 0s 16ms/step - loss: 0.1074 - acc: 0.9562 - val_loss: 0.7644 - val_acc: 0.8500\n",
      "Epoch 41/100\n",
      "22/22 [==============================] - 0s 16ms/step - loss: 0.1857 - acc: 0.9377 - val_loss: 0.9035 - val_acc: 0.8375\n",
      "Epoch 42/100\n",
      "22/22 [==============================] - 0s 16ms/step - loss: 0.1439 - acc: 0.9515 - val_loss: 0.7178 - val_acc: 0.8500\n",
      "Epoch 43/100\n",
      "22/22 [==============================] - 0s 16ms/step - loss: 0.1130 - acc: 0.9513 - val_loss: 0.9270 - val_acc: 0.8375\n",
      "Epoch 44/100\n",
      "22/22 [==============================] - 0s 17ms/step - loss: 0.0963 - acc: 0.9629 - val_loss: 0.5476 - val_acc: 0.8750\n",
      "Epoch 45/100\n",
      "22/22 [==============================] - 0s 15ms/step - loss: 0.1069 - acc: 0.9575 - val_loss: 0.9120 - val_acc: 0.7875\n",
      "Epoch 46/100\n",
      "22/22 [==============================] - 0s 16ms/step - loss: 0.0929 - acc: 0.9697 - val_loss: 0.4439 - val_acc: 0.9125\n",
      "Epoch 47/100\n",
      "22/22 [==============================] - 0s 15ms/step - loss: 0.0944 - acc: 0.9645 - val_loss: 0.8640 - val_acc: 0.8875\n",
      "Epoch 48/100\n",
      "22/22 [==============================] - 0s 16ms/step - loss: 0.1207 - acc: 0.9531 - val_loss: 0.5412 - val_acc: 0.8375\n",
      "Epoch 49/100\n",
      "22/22 [==============================] - 0s 16ms/step - loss: 0.0754 - acc: 0.9743 - val_loss: 0.8794 - val_acc: 0.8625\n",
      "Epoch 50/100\n",
      "22/22 [==============================] - 0s 17ms/step - loss: 0.0738 - acc: 0.9768 - val_loss: 0.9376 - val_acc: 0.8125\n",
      "Epoch 51/100\n",
      "22/22 [==============================] - 0s 15ms/step - loss: 0.0767 - acc: 0.9717 - val_loss: 0.6722 - val_acc: 0.8875\n",
      "Epoch 52/100\n",
      "22/22 [==============================] - 0s 17ms/step - loss: 0.1006 - acc: 0.9626 - val_loss: 0.6214 - val_acc: 0.8750\n",
      "Epoch 53/100\n",
      "22/22 [==============================] - 0s 15ms/step - loss: 0.0738 - acc: 0.9729 - val_loss: 0.7012 - val_acc: 0.8500\n",
      "Epoch 54/100\n",
      "22/22 [==============================] - 0s 15ms/step - loss: 0.0779 - acc: 0.9699 - val_loss: 0.6479 - val_acc: 0.8750\n",
      "Epoch 55/100\n",
      "22/22 [==============================] - 0s 16ms/step - loss: 0.0854 - acc: 0.9744 - val_loss: 1.2398 - val_acc: 0.8500\n",
      "Epoch 56/100\n",
      "22/22 [==============================] - 0s 17ms/step - loss: 0.1449 - acc: 0.9508 - val_loss: 0.9769 - val_acc: 0.8375\n",
      "Epoch 57/100\n",
      "22/22 [==============================] - 0s 17ms/step - loss: 0.0592 - acc: 0.9788 - val_loss: 0.6287 - val_acc: 0.8750\n",
      "Epoch 58/100\n",
      "22/22 [==============================] - 0s 17ms/step - loss: 0.1172 - acc: 0.9529 - val_loss: 0.7813 - val_acc: 0.8625\n",
      "Epoch 59/100\n",
      "22/22 [==============================] - 0s 16ms/step - loss: 0.0679 - acc: 0.9801 - val_loss: 0.5995 - val_acc: 0.8875\n",
      "Epoch 60/100\n",
      "22/22 [==============================] - 0s 16ms/step - loss: 0.0583 - acc: 0.9731 - val_loss: 0.5550 - val_acc: 0.8875\n",
      "Epoch 61/100\n",
      "22/22 [==============================] - 0s 17ms/step - loss: 0.0975 - acc: 0.9746 - val_loss: 0.8019 - val_acc: 0.8375\n",
      "Epoch 62/100\n"
     ]
    },
    {
     "output_type": "stream",
     "name": "stdout",
     "text": [
      "22/22 [==============================] - 0s 15ms/step - loss: 0.0991 - acc: 0.9599 - val_loss: 0.8086 - val_acc: 0.8750\n",
      "Epoch 63/100\n",
      "22/22 [==============================] - 0s 15ms/step - loss: 0.1110 - acc: 0.9584 - val_loss: 0.9878 - val_acc: 0.8000\n",
      "Epoch 64/100\n",
      "22/22 [==============================] - 0s 16ms/step - loss: 0.0336 - acc: 0.9916 - val_loss: 1.0908 - val_acc: 0.8875\n",
      "Epoch 65/100\n",
      "22/22 [==============================] - 0s 15ms/step - loss: 0.0683 - acc: 0.9770 - val_loss: 0.8298 - val_acc: 0.8625\n",
      "Epoch 66/100\n",
      "22/22 [==============================] - 0s 16ms/step - loss: 0.0500 - acc: 0.9828 - val_loss: 0.9946 - val_acc: 0.8500\n",
      "Epoch 67/100\n",
      "22/22 [==============================] - 0s 16ms/step - loss: 0.0918 - acc: 0.9629 - val_loss: 0.9039 - val_acc: 0.8750\n",
      "Epoch 68/100\n",
      "22/22 [==============================] - 0s 15ms/step - loss: 0.0439 - acc: 0.9819 - val_loss: 0.5174 - val_acc: 0.9250\n",
      "Epoch 69/100\n",
      "22/22 [==============================] - 0s 15ms/step - loss: 0.0422 - acc: 0.9841 - val_loss: 1.1825 - val_acc: 0.8625\n",
      "Epoch 70/100\n",
      "22/22 [==============================] - 0s 16ms/step - loss: 0.0750 - acc: 0.9697 - val_loss: 0.9671 - val_acc: 0.8500\n",
      "Epoch 71/100\n",
      "22/22 [==============================] - 0s 16ms/step - loss: 0.0901 - acc: 0.9625 - val_loss: 0.5278 - val_acc: 0.8875\n",
      "Epoch 72/100\n",
      "22/22 [==============================] - 0s 15ms/step - loss: 0.0453 - acc: 0.9793 - val_loss: 1.2815 - val_acc: 0.8375\n",
      "Epoch 73/100\n",
      "22/22 [==============================] - 0s 16ms/step - loss: 0.0553 - acc: 0.9820 - val_loss: 0.7111 - val_acc: 0.8875\n",
      "Epoch 74/100\n",
      "22/22 [==============================] - 0s 15ms/step - loss: 0.0600 - acc: 0.9752 - val_loss: 0.7503 - val_acc: 0.8750\n",
      "Epoch 75/100\n",
      "22/22 [==============================] - 0s 15ms/step - loss: 0.0996 - acc: 0.9739 - val_loss: 1.0845 - val_acc: 0.8500\n",
      "Epoch 76/100\n",
      "22/22 [==============================] - 0s 15ms/step - loss: 0.0760 - acc: 0.9721 - val_loss: 1.1740 - val_acc: 0.8375\n",
      "Epoch 77/100\n",
      "22/22 [==============================] - 0s 15ms/step - loss: 0.0652 - acc: 0.9758 - val_loss: 0.9276 - val_acc: 0.9000\n",
      "Epoch 78/100\n",
      "22/22 [==============================] - 0s 16ms/step - loss: 0.0325 - acc: 0.9900 - val_loss: 0.8207 - val_acc: 0.8750\n",
      "Epoch 79/100\n",
      "22/22 [==============================] - 0s 16ms/step - loss: 0.0282 - acc: 0.9919 - val_loss: 1.4542 - val_acc: 0.8625\n",
      "Epoch 80/100\n",
      "22/22 [==============================] - 0s 16ms/step - loss: 0.0366 - acc: 0.9860 - val_loss: 0.7322 - val_acc: 0.8875\n",
      "Epoch 81/100\n",
      "22/22 [==============================] - 0s 16ms/step - loss: 0.0899 - acc: 0.9752 - val_loss: 0.9697 - val_acc: 0.8500\n",
      "Epoch 82/100\n",
      "22/22 [==============================] - 0s 16ms/step - loss: 0.0452 - acc: 0.9797 - val_loss: 0.8051 - val_acc: 0.8875\n",
      "Epoch 83/100\n",
      "22/22 [==============================] - 0s 15ms/step - loss: 0.0327 - acc: 0.9896 - val_loss: 1.3433 - val_acc: 0.8500\n",
      "Epoch 84/100\n",
      "22/22 [==============================] - 0s 15ms/step - loss: 0.0876 - acc: 0.9762 - val_loss: 0.9441 - val_acc: 0.9000\n",
      "Epoch 85/100\n",
      "22/22 [==============================] - 0s 15ms/step - loss: 0.0544 - acc: 0.9814 - val_loss: 1.0239 - val_acc: 0.8875\n",
      "Epoch 86/100\n",
      "22/22 [==============================] - 0s 15ms/step - loss: 0.0403 - acc: 0.9841 - val_loss: 1.0631 - val_acc: 0.8625\n",
      "Epoch 87/100\n",
      "22/22 [==============================] - 0s 15ms/step - loss: 0.0339 - acc: 0.9871 - val_loss: 0.4847 - val_acc: 0.9000\n",
      "Epoch 88/100\n",
      "22/22 [==============================] - 0s 15ms/step - loss: 0.0319 - acc: 0.9867 - val_loss: 1.1959 - val_acc: 0.8500\n",
      "Epoch 89/100\n",
      "22/22 [==============================] - 0s 14ms/step - loss: 0.0290 - acc: 0.9902 - val_loss: 1.2740 - val_acc: 0.8500\n",
      "Epoch 90/100\n",
      "22/22 [==============================] - 0s 16ms/step - loss: 0.0639 - acc: 0.9813 - val_loss: 0.6998 - val_acc: 0.8750\n",
      "Epoch 91/100\n",
      "22/22 [==============================] - 0s 16ms/step - loss: 0.0439 - acc: 0.9878 - val_loss: 1.2158 - val_acc: 0.8875\n",
      "Epoch 92/100\n",
      "22/22 [==============================] - 0s 16ms/step - loss: 0.0385 - acc: 0.9859 - val_loss: 1.0709 - val_acc: 0.8250\n",
      "Epoch 93/100\n",
      "22/22 [==============================] - 0s 15ms/step - loss: 0.0423 - acc: 0.9909 - val_loss: 0.9238 - val_acc: 0.8875\n",
      "Epoch 94/100\n",
      "22/22 [==============================] - 0s 16ms/step - loss: 0.0258 - acc: 0.9879 - val_loss: 0.5876 - val_acc: 0.8750\n",
      "Epoch 95/100\n",
      "22/22 [==============================] - 0s 15ms/step - loss: 0.0701 - acc: 0.9676 - val_loss: 0.8327 - val_acc: 0.8750\n",
      "Epoch 96/100\n",
      "22/22 [==============================] - 0s 15ms/step - loss: 0.0326 - acc: 0.9882 - val_loss: 1.1142 - val_acc: 0.8500\n",
      "Epoch 97/100\n",
      "22/22 [==============================] - 0s 16ms/step - loss: 0.0275 - acc: 0.9927 - val_loss: 0.5949 - val_acc: 0.9000\n",
      "Epoch 98/100\n",
      "22/22 [==============================] - 0s 16ms/step - loss: 0.0244 - acc: 0.9908 - val_loss: 1.4519 - val_acc: 0.8250\n",
      "Epoch 99/100\n",
      "22/22 [==============================] - 0s 15ms/step - loss: 0.0447 - acc: 0.9807 - val_loss: 1.5014 - val_acc: 0.8500\n",
      "Epoch 100/100\n",
      "22/22 [==============================] - 0s 15ms/step - loss: 0.0283 - acc: 0.9908 - val_loss: 1.3469 - val_acc: 0.8500\n"
     ]
    }
   ],
   "metadata": {}
  },
  {
   "cell_type": "code",
   "execution_count": null,
   "source": [
    "### Metrics and evaluation of the model"
   ],
   "outputs": [],
   "metadata": {}
  },
  {
   "cell_type": "code",
   "execution_count": 298,
   "source": [
    "plt.plot(history.history['acc'])\r\n",
    "plt.plot(history.history['val_acc'])\r\n",
    "plt.title('model accuracy')\r\n",
    "plt.ylabel('accuracy')\r\n",
    "plt.xlabel('epoch')\r\n",
    "plt.legend(['train', 'val'], loc='upper left')\r\n",
    "plt.show()"
   ],
   "outputs": [
    {
     "output_type": "display_data",
     "data": {
      "text/plain": [
       "<IPython.core.display.Javascript object>"
      ],
      "application/javascript": "\n        if (window._pyforest_update_imports_cell) { window._pyforest_update_imports_cell('import matplotlib.pyplot as plt'); }\n    "
     },
     "metadata": {}
    },
    {
     "output_type": "display_data",
     "data": {
      "text/plain": [
       "<IPython.core.display.Javascript object>"
      ],
      "application/javascript": "\n        if (window._pyforest_update_imports_cell) { window._pyforest_update_imports_cell('import matplotlib.pyplot as plt'); }\n    "
     },
     "metadata": {}
    },
    {
     "output_type": "display_data",
     "data": {
      "text/plain": [
       "<IPython.core.display.Javascript object>"
      ],
      "application/javascript": "\n        if (window._pyforest_update_imports_cell) { window._pyforest_update_imports_cell('import matplotlib.pyplot as plt'); }\n    "
     },
     "metadata": {}
    },
    {
     "output_type": "display_data",
     "data": {
      "text/plain": [
       "<IPython.core.display.Javascript object>"
      ],
      "application/javascript": "\n        if (window._pyforest_update_imports_cell) { window._pyforest_update_imports_cell('import matplotlib.pyplot as plt'); }\n    "
     },
     "metadata": {}
    },
    {
     "output_type": "display_data",
     "data": {
      "text/plain": [
       "<IPython.core.display.Javascript object>"
      ],
      "application/javascript": "\n        if (window._pyforest_update_imports_cell) { window._pyforest_update_imports_cell('import matplotlib.pyplot as plt'); }\n    "
     },
     "metadata": {}
    },
    {
     "output_type": "display_data",
     "data": {
      "text/plain": [
       "<IPython.core.display.Javascript object>"
      ],
      "application/javascript": "\n        if (window._pyforest_update_imports_cell) { window._pyforest_update_imports_cell('import matplotlib.pyplot as plt'); }\n    "
     },
     "metadata": {}
    },
    {
     "output_type": "display_data",
     "data": {
      "text/plain": [
       "<IPython.core.display.Javascript object>"
      ],
      "application/javascript": "\n        if (window._pyforest_update_imports_cell) { window._pyforest_update_imports_cell('import matplotlib.pyplot as plt'); }\n    "
     },
     "metadata": {}
    },
    {
     "output_type": "display_data",
     "data": {
      "text/plain": [
       "<Figure size 432x288 with 1 Axes>"
      ],
      "image/png": "[encoded data removed]"
     },
     "metadata": {
      "needs_background": "light"
     }
    }
   ],
   "metadata": {}
  },
  {
   "cell_type": "code",
   "execution_count": 299,
   "source": [
    "plt.plot(history.history['loss'])\r\n",
    "plt.plot(history.history['val_loss'])\r\n",
    "plt.title('model loss')\r\n",
    "plt.ylabel('loss')\r\n",
    "plt.xlabel('epoch')\r\n",
    "plt.legend(['train', 'val'], loc='upper left')\r\n",
    "plt.show()"
   ],
   "outputs": [
    {
     "output_type": "display_data",
     "data": {
      "text/plain": [
       "<IPython.core.display.Javascript object>"
      ],
      "application/javascript": "\n        if (window._pyforest_update_imports_cell) { window._pyforest_update_imports_cell('import matplotlib.pyplot as plt'); }\n    "
     },
     "metadata": {}
    },
    {
     "output_type": "display_data",
     "data": {
      "text/plain": [
       "<IPython.core.display.Javascript object>"
      ],
      "application/javascript": "\n        if (window._pyforest_update_imports_cell) { window._pyforest_update_imports_cell('import matplotlib.pyplot as plt'); }\n    "
     },
     "metadata": {}
    },
    {
     "output_type": "display_data",
     "data": {
      "text/plain": [
       "<IPython.core.display.Javascript object>"
      ],
      "application/javascript": "\n        if (window._pyforest_update_imports_cell) { window._pyforest_update_imports_cell('import matplotlib.pyplot as plt'); }\n    "
     },
     "metadata": {}
    },
    {
     "output_type": "display_data",
     "data": {
      "text/plain": [
       "<IPython.core.display.Javascript object>"
      ],
      "application/javascript": "\n        if (window._pyforest_update_imports_cell) { window._pyforest_update_imports_cell('import matplotlib.pyplot as plt'); }\n    "
     },
     "metadata": {}
    },
    {
     "output_type": "display_data",
     "data": {
      "text/plain": [
       "<IPython.core.display.Javascript object>"
      ],
      "application/javascript": "\n        if (window._pyforest_update_imports_cell) { window._pyforest_update_imports_cell('import matplotlib.pyplot as plt'); }\n    "
     },
     "metadata": {}
    },
    {
     "output_type": "display_data",
     "data": {
      "text/plain": [
       "<IPython.core.display.Javascript object>"
      ],
      "application/javascript": "\n        if (window._pyforest_update_imports_cell) { window._pyforest_update_imports_cell('import matplotlib.pyplot as plt'); }\n    "
     },
     "metadata": {}
    },
    {
     "output_type": "display_data",
     "data": {
      "text/plain": [
       "<IPython.core.display.Javascript object>"
      ],
      "application/javascript": "\n        if (window._pyforest_update_imports_cell) { window._pyforest_update_imports_cell('import matplotlib.pyplot as plt'); }\n    "
     },
     "metadata": {}
    },
    {
     "output_type": "display_data",
     "data": {
      "text/plain": [
       "<Figure size 432x288 with 1 Axes>"
      ],
      "image/png": "[encoded data removed]"
     },
     "metadata": {
      "needs_background": "light"
     }
    }
   ],
   "metadata": {}
  },
  {
   "cell_type": "markdown",
   "source": [
    "#### [FUTURE] do tests with external images, try transfer learning"
   ],
   "metadata": {}
  },
  {
   "cell_type": "code",
   "execution_count": null,
   "source": [],
   "outputs": [],
   "metadata": {}
  },
  {
   "cell_type": "code",
   "execution_count": null,
   "source": [],
   "outputs": [],
   "metadata": {}
  }
 ],
 "metadata": {
  "kernelspec": {
   "display_name": "tf24",
   "language": "python",
   "name": "tf24"
  },
  "language_info": {
   "codemirror_mode": {
    "name": "ipython",
    "version": 3
   },
   "file_extension": ".py",
   "mimetype": "text/x-python",
   "name": "python",
   "nbconvert_exporter": "python",
   "pygments_lexer": "ipython3",
   "version": "3.8.5"
  },
  "varInspector": {
   "cols": {
    "lenName": 16,
    "lenType": 16,
    "lenVar": 40
   },
   "kernels_config": {
    "python": {
     "delete_cmd_postfix": "",
     "delete_cmd_prefix": "del ",
     "library": "var_list.py",
     "varRefreshCmd": "print(var_dic_list())"
    },
    "r": {
     "delete_cmd_postfix": ") ",
     "delete_cmd_prefix": "rm(",
     "library": "var_list.r",
     "varRefreshCmd": "cat(var_dic_list()) "
    }
   },
   "types_to_exclude": [
    "module",
    "function",
    "builtin_function_or_method",
    "instance",
    "_Feature"
   ],
   "window_display": false
  }
 },
 "nbformat": 4,
 "nbformat_minor": 4
}