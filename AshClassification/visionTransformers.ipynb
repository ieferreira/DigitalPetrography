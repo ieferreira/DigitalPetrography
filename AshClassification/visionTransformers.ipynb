{
 "cells": [
  {
   "cell_type": "markdown",
   "metadata": {},
   "source": [
    "### Saving image dataset and labels as npy"
   ]
  },
  {
   "cell_type": "code",
   "execution_count": 1,
   "metadata": {},
   "outputs": [],
   "source": [
    "import numpy as np \n",
    "import matplotlib.pyplot as plt \n",
    "import pandas as pd \r\n"
   ]
  },
  {
   "cell_type": "code",
   "execution_count": 2,
   "metadata": {},
   "outputs": [
    {
     "data": {
      "application/javascript": [
       "\n",
       "        if (window._pyforest_update_imports_cell) { window._pyforest_update_imports_cell('import os'); }\n",
       "    "
      ],
      "text/plain": [
       "<IPython.core.display.Javascript object>"
      ]
     },
     "metadata": {},
     "output_type": "display_data"
    },
    {
     "name": "stdout",
     "output_type": "stream",
     "text": [
      "245\n"
     ]
    },
    {
     "data": {
      "application/javascript": [
       "\n",
       "        if (window._pyforest_update_imports_cell) { window._pyforest_update_imports_cell('import os'); }\n",
       "    "
      ],
      "text/plain": [
       "<IPython.core.display.Javascript object>"
      ]
     },
     "metadata": {},
     "output_type": "display_data"
    },
    {
     "name": "stdout",
     "output_type": "stream",
     "text": [
      "248\n"
     ]
    },
    {
     "data": {
      "application/javascript": [
       "\n",
       "        if (window._pyforest_update_imports_cell) { window._pyforest_update_imports_cell('import os'); }\n",
       "    "
      ],
      "text/plain": [
       "<IPython.core.display.Javascript object>"
      ]
     },
     "metadata": {},
     "output_type": "display_data"
    },
    {
     "name": "stdout",
     "output_type": "stream",
     "text": [
      "245\n"
     ]
    },
    {
     "data": {
      "application/javascript": [
       "\n",
       "        if (window._pyforest_update_imports_cell) { window._pyforest_update_imports_cell('import os'); }\n",
       "    "
      ],
      "text/plain": [
       "<IPython.core.display.Javascript object>"
      ]
     },
     "metadata": {},
     "output_type": "display_data"
    },
    {
     "name": "stdout",
     "output_type": "stream",
     "text": [
      "239\n"
     ]
    }
   ],
   "source": [
    "ls = [\"blocky\", \"elongated\", \"rounded\", \"vesicular\"]\n",
    "for i in ls:    \n",
    "    print(len(os.listdir(i)))"
   ]
  },
  {
   "cell_type": "code",
   "execution_count": 3,
   "metadata": {},
   "outputs": [
    {
     "name": "stdout",
     "output_type": "stream",
     "text": [
      "<class 'numpy.ndarray'>\n",
      "(50, 50, 3)\n"
     ]
    }
   ],
   "source": [
    "from PIL import Image\r\n",
    "from numpy import asarray\r\n",
    "# load the image\r\n",
    "image = Image.open('blocky/FN15101201_3-5x-R42_revised_488.jpg')\r\n",
    "# convert image to numpy array\r\n",
    "data = asarray(image)\r\n",
    "print(type(data))\r\n",
    "# summarize shape\r\n",
    "print(data.shape)"
   ]
  },
  {
   "cell_type": "code",
   "execution_count": 4,
   "metadata": {},
   "outputs": [
    {
     "data": {
      "application/javascript": [
       "\n",
       "        if (window._pyforest_update_imports_cell) { window._pyforest_update_imports_cell('import os'); }\n",
       "    "
      ],
      "text/plain": [
       "<IPython.core.display.Javascript object>"
      ]
     },
     "metadata": {},
     "output_type": "display_data"
    }
   ],
   "source": [
    "ls = []\n",
    "for i in os.listdir(\"blocky\"):\n",
    "    image = Image.open('blocky/'+i)\n",
    "    # convert image to numpy array\n",
    "    data = asarray(image)\n",
    "    ls.append([data, 1])"
   ]
  },
  {
   "cell_type": "code",
   "execution_count": 6,
   "metadata": {},
   "outputs": [
    {
     "data": {
      "text/plain": [
       "<matplotlib.image.AxesImage at 0x1a7309740d0>"
      ]
     },
     "execution_count": 6,
     "metadata": {},
     "output_type": "execute_result"
    },
    {
     "data": {
      "image/png": "[encoded data removed]",
      "text/plain": [
       "<Figure size 432x288 with 1 Axes>"
      ]
     },
     "metadata": {
      "needs_background": "light"
     },
     "output_type": "display_data"
    }
   ],
   "source": [
    "plt.imshow(ls[0][0])"
   ]
  },
  {
   "cell_type": "code",
   "execution_count": 7,
   "metadata": {},
   "outputs": [],
   "source": [
    "dct = {\"blocky\":0, \"elongated\":1, \"rounded\":2, \"vesicular\":3}\n"
   ]
  },
  {
   "cell_type": "code",
   "execution_count": 8,
   "metadata": {},
   "outputs": [],
   "source": [
    "from tqdm import tqdm"
   ]
  },
  {
   "cell_type": "code",
   "execution_count": 9,
   "metadata": {},
   "outputs": [
    {
     "name": "stderr",
     "output_type": "stream",
     "text": [
      "  0%|                                                                                            | 0/4 [00:00<?, ?it/s]"
     ]
    },
    {
     "data": {
      "application/javascript": [
       "\n",
       "        if (window._pyforest_update_imports_cell) { window._pyforest_update_imports_cell('import os'); }\n",
       "    "
      ],
      "text/plain": [
       "<IPython.core.display.Javascript object>"
      ]
     },
     "metadata": {},
     "output_type": "display_data"
    },
    {
     "data": {
      "application/javascript": [
       "\n",
       "        if (window._pyforest_update_imports_cell) { window._pyforest_update_imports_cell('import os'); }\n",
       "    "
      ],
      "text/plain": [
       "<IPython.core.display.Javascript object>"
      ]
     },
     "metadata": {},
     "output_type": "display_data"
    },
    {
     "name": "stderr",
     "output_type": "stream",
     "text": [
      " 50%|██████████████████████████████████████████                                          | 2/4 [00:00<00:00, 13.09it/s]"
     ]
    },
    {
     "data": {
      "application/javascript": [
       "\n",
       "        if (window._pyforest_update_imports_cell) { window._pyforest_update_imports_cell('import os'); }\n",
       "    "
      ],
      "text/plain": [
       "<IPython.core.display.Javascript object>"
      ]
     },
     "metadata": {},
     "output_type": "display_data"
    },
    {
     "data": {
      "application/javascript": [
       "\n",
       "        if (window._pyforest_update_imports_cell) { window._pyforest_update_imports_cell('import os'); }\n",
       "    "
      ],
      "text/plain": [
       "<IPython.core.display.Javascript object>"
      ]
     },
     "metadata": {},
     "output_type": "display_data"
    },
    {
     "name": "stderr",
     "output_type": "stream",
     "text": [
      "100%|████████████████████████████████████████████████████████████████████████████████████| 4/4 [00:00<00:00, 14.64it/s]\n"
     ]
    }
   ],
   "source": [
    "imgs = []\n",
    "labels = []\n",
    "for k,v in tqdm(dct.items()):\n",
    "    for i in os.listdir(k):\n",
    "        image = Image.open(k+'/'+i)\n",
    "        # convert image to numpy array\n",
    "        data = asarray(image)\n",
    "        imgs.append(data)\n",
    "        labels.append(v)"
   ]
  },
  {
   "cell_type": "code",
   "execution_count": 10,
   "metadata": {
    "tags": []
   },
   "outputs": [
    {
     "data": {
      "text/plain": [
       "array([[[255, 255, 255],\n",
       "        [255, 255, 255],\n",
       "        [255, 255, 255],\n",
       "        ...,\n",
       "        [253, 253, 253],\n",
       "        [255, 255, 255],\n",
       "        [255, 255, 255]],\n",
       "\n",
       "       [[255, 255, 255],\n",
       "        [255, 255, 255],\n",
       "        [255, 255, 255],\n",
       "        ...,\n",
       "        [255, 255, 255],\n",
       "        [255, 255, 255],\n",
       "        [255, 255, 255]],\n",
       "\n",
       "       [[255, 255, 255],\n",
       "        [255, 255, 255],\n",
       "        [255, 255, 255],\n",
       "        ...,\n",
       "        [253, 253, 253],\n",
       "        [255, 255, 255],\n",
       "        [255, 255, 255]],\n",
       "\n",
       "       ...,\n",
       "\n",
       "       [[255, 255, 255],\n",
       "        [255, 255, 255],\n",
       "        [255, 255, 255],\n",
       "        ...,\n",
       "        [253, 253, 253],\n",
       "        [255, 255, 255],\n",
       "        [255, 255, 255]],\n",
       "\n",
       "       [[255, 255, 255],\n",
       "        [255, 255, 255],\n",
       "        [255, 255, 255],\n",
       "        ...,\n",
       "        [255, 255, 255],\n",
       "        [255, 255, 255],\n",
       "        [255, 255, 255]],\n",
       "\n",
       "       [[255, 255, 255],\n",
       "        [255, 255, 255],\n",
       "        [255, 255, 255],\n",
       "        ...,\n",
       "        [255, 255, 255],\n",
       "        [255, 255, 255],\n",
       "        [255, 255, 255]]], dtype=uint8)"
      ]
     },
     "execution_count": 10,
     "metadata": {},
     "output_type": "execute_result"
    }
   ],
   "source": [
    "imgs[0]"
   ]
  },
  {
   "cell_type": "code",
   "execution_count": 11,
   "metadata": {},
   "outputs": [],
   "source": [
    "np_imgs = np.array(imgs)"
   ]
  },
  {
   "cell_type": "code",
   "execution_count": 12,
   "metadata": {},
   "outputs": [],
   "source": [
    "np_labels = np.array(labels)"
   ]
  },
  {
   "cell_type": "code",
   "execution_count": 13,
   "metadata": {},
   "outputs": [],
   "source": [
    "np.save(\"imgs.npy\", np_imgs)\n",
    "np.save(\"labels.npy\", np_labels)"
   ]
  },
  {
   "cell_type": "code",
   "execution_count": 14,
   "metadata": {},
   "outputs": [
    {
     "data": {
      "text/plain": [
       "<module 'random' from 'C:\\\\Users\\\\ferreira\\\\anaconda3\\\\lib\\\\random.py'>"
      ]
     },
     "execution_count": 14,
     "metadata": {},
     "output_type": "execute_result"
    }
   ],
   "source": [
    "import random\n",
    "\n",
    "random"
   ]
  },
  {
   "cell_type": "code",
   "execution_count": 15,
   "metadata": {},
   "outputs": [],
   "source": [
    "random.shuffle(imgs)"
   ]
  },
  {
   "cell_type": "code",
   "execution_count": 18,
   "metadata": {},
   "outputs": [
    {
     "data": {
      "text/plain": [
       "(977, 50, 50, 3)"
      ]
     },
     "execution_count": 18,
     "metadata": {},
     "output_type": "execute_result"
    }
   ],
   "source": [
    "np_imgs.shape"
   ]
  },
  {
   "cell_type": "code",
   "execution_count": 19,
   "metadata": {},
   "outputs": [
    {
     "data": {
      "text/plain": [
       "(977,)"
      ]
     },
     "execution_count": 19,
     "metadata": {},
     "output_type": "execute_result"
    }
   ],
   "source": [
    "np_labels.shape"
   ]
  },
  {
   "cell_type": "code",
   "execution_count": 20,
   "metadata": {},
   "outputs": [],
   "source": [
    "def unison_shuffled_copies(a, b):\n",
    "    assert len(a) == len(b)\n",
    "    p = np.random.permutation(len(a))\n",
    "    return a[p], b[p]"
   ]
  },
  {
   "cell_type": "code",
   "execution_count": 21,
   "metadata": {},
   "outputs": [],
   "source": [
    "imgs_final, labels_final = unison_shuffled_copies(np_imgs, np_labels)"
   ]
  },
  {
   "cell_type": "code",
   "execution_count": 22,
   "metadata": {},
   "outputs": [],
   "source": [
    "total = len(imgs_final)"
   ]
  },
  {
   "cell_type": "code",
   "execution_count": 23,
   "metadata": {},
   "outputs": [],
   "source": [
    "partition_80_20 = int(total*0.8)"
   ]
  },
  {
   "cell_type": "code",
   "execution_count": 24,
   "metadata": {},
   "outputs": [],
   "source": [
    "train_imgs, train_labels = imgs_final[:partition_80_20], labels_final[:partition_80_20]\n",
    "test_imgs, test_labels = imgs_final[partition_80_20:], labels_final[partition_80_20:]"
   ]
  },
  {
   "cell_type": "code",
   "execution_count": 25,
   "metadata": {},
   "outputs": [],
   "source": [
    "np.save(\"train_imgs.npy\", train_imgs)\n",
    "np.save(\"train_labels.npy\", train_labels)\n",
    "np.save(\"test_imgs.npy\", test_imgs)\n",
    "np.save(\"test_labels.npy\", test_labels)"
   ]
  },
  {
   "cell_type": "markdown",
   "metadata": {},
   "source": [
    "### Vision Transformers for image classification"
   ]
  },
  {
   "cell_type": "code",
   "execution_count": 26,
   "metadata": {},
   "outputs": [
    {
     "name": "stdout",
     "output_type": "stream",
     "text": [
      "x_train shape: (781, 50, 50, 3) - y_train shape: (781,)\n",
      "x_test shape: (196, 50, 50, 3) - y_test shape: (196,)\n"
     ]
    }
   ],
   "source": [
    "(x_train, y_train), (x_test, y_test) = (train_imgs, train_labels), (test_imgs, test_labels)\n",
    "print(f\"x_train shape: {x_train.shape} - y_train shape: {y_train.shape}\")\n",
    "print(f\"x_test shape: {x_test.shape} - y_test shape: {y_test.shape}\")"
   ]
  },
  {
   "cell_type": "code",
   "execution_count": 27,
   "metadata": {},
   "outputs": [],
   "source": [
    "import numpy as np\n",
    "import tensorflow as tf\n",
    "from tensorflow import keras\n",
    "from tensorflow.keras import layers\n",
    "import tensorflow_addons as tfa\n",
    "\n",
    "physical_devices = tf.config.list_physical_devices('GPU') \n",
    "tf.config.experimental.set_memory_growth(physical_devices[0], True)"
   ]
  },
  {
   "cell_type": "code",
   "execution_count": 28,
   "metadata": {},
   "outputs": [],
   "source": [
    "num_classes = 4\n",
    "input_shape = (50, 50, 3)"
   ]
  },
  {
   "cell_type": "code",
   "execution_count": 48,
   "metadata": {},
   "outputs": [],
   "source": [
    "learning_rate = 0.001\n",
    "weight_decay = 0.0001\n",
    "batch_size = 16\n",
    "num_epochs = 100\n",
    "image_size = 72  # We'll resize input images to this size\n",
    "patch_size = 6  # Size of the patches to be extract from the input images\n",
    "num_patches = (image_size // patch_size) ** 2\n",
    "projection_dim = 64\n",
    "num_heads = 4\n",
    "transformer_units = [\n",
    "    projection_dim * 2,\n",
    "    projection_dim,\n",
    "]  # Size of the transformer layers\n",
    "transformer_layers = 8\n",
    "mlp_head_units = [2048, 1024]  # Size of the dense layers of the final classifier"
   ]
  },
  {
   "cell_type": "code",
   "execution_count": 49,
   "metadata": {},
   "outputs": [],
   "source": [
    "data_augmentation = keras.Sequential(\n",
    "    [\n",
    "        layers.experimental.preprocessing.Normalization(),\n",
    "        layers.experimental.preprocessing.Resizing(image_size, image_size),\n",
    "        layers.experimental.preprocessing.RandomFlip(\"horizontal\"),\n",
    "        layers.experimental.preprocessing.RandomRotation(factor=0.02),\n",
    "        layers.experimental.preprocessing.RandomZoom(\n",
    "            height_factor=0.2, width_factor=0.2\n",
    "        ),\n",
    "    ],\n",
    "    name=\"data_augmentation\",\n",
    ")\n",
    "# Compute the mean and the variance of the training data for normalization.\n",
    "data_augmentation.layers[0].adapt(x_train)\n"
   ]
  },
  {
   "cell_type": "code",
   "execution_count": 50,
   "metadata": {},
   "outputs": [],
   "source": [
    "def mlp(x, hidden_units, dropout_rate):\n",
    "    for units in hidden_units:\n",
    "        x = layers.Dense(units, activation=tf.nn.gelu)(x)\n",
    "        x = layers.Dropout(dropout_rate)(x)\n",
    "    return x\n"
   ]
  },
  {
   "cell_type": "code",
   "execution_count": 51,
   "metadata": {},
   "outputs": [],
   "source": [
    "class Patches(layers.Layer):\n",
    "    def __init__(self, patch_size):\n",
    "        super(Patches, self).__init__()\n",
    "        self.patch_size = patch_size\n",
    "\n",
    "    def call(self, images):\n",
    "        batch_size = tf.shape(images)[0]\n",
    "        patches = tf.image.extract_patches(\n",
    "            images=images,\n",
    "            sizes=[1, self.patch_size, self.patch_size, 1],\n",
    "            strides=[1, self.patch_size, self.patch_size, 1],\n",
    "            rates=[1, 1, 1, 1],\n",
    "            padding=\"VALID\",\n",
    "        )\n",
    "        patch_dims = patches.shape[-1]\n",
    "        patches = tf.reshape(patches, [batch_size, -1, patch_dims])\n",
    "        return patches\n"
   ]
  },
  {
   "cell_type": "code",
   "execution_count": 52,
   "metadata": {
    "tags": []
   },
   "outputs": [
    {
     "name": "stdout",
     "output_type": "stream",
     "text": [
      "Image size: 72 X 72\n",
      "Patch size: 6 X 6\n",
      "Patches per image: 144\n",
      "Elements per patch: 108\n"
     ]
    },
    {
     "data": {
      "image/png": "[encoded data removed]",
      "text/plain": [
       "<Figure size 288x288 with 1 Axes>"
      ]
     },
     "metadata": {
      "needs_background": "light"
     },
     "output_type": "display_data"
    },
    {
     "data": {
      "image/png": "[encoded data removed]",
      "text/plain": [
       "<Figure size 288x288 with 144 Axes>"
      ]
     },
     "metadata": {
      "needs_background": "light"
     },
     "output_type": "display_data"
    }
   ],
   "source": [
    "import matplotlib.pyplot as plt\n",
    "\n",
    "plt.figure(figsize=(4, 4))\n",
    "image = x_train[np.random.choice(range(x_train.shape[0]))]\n",
    "plt.imshow(image.astype(\"uint8\"))\n",
    "plt.axis(\"off\")\n",
    "\n",
    "resized_image = tf.image.resize(\n",
    "    tf.convert_to_tensor([image]), size=(image_size, image_size)\n",
    ")\n",
    "patches = Patches(patch_size)(resized_image)\n",
    "print(f\"Image size: {image_size} X {image_size}\")\n",
    "print(f\"Patch size: {patch_size} X {patch_size}\")\n",
    "print(f\"Patches per image: {patches.shape[1]}\")\n",
    "print(f\"Elements per patch: {patches.shape[-1]}\")\n",
    "\n",
    "n = int(np.sqrt(patches.shape[1]))\n",
    "plt.figure(figsize=(4, 4))\n",
    "for i, patch in enumerate(patches[0]):\n",
    "    ax = plt.subplot(n, n, i + 1)\n",
    "    patch_img = tf.reshape(patch, (patch_size, patch_size, 3))\n",
    "    plt.imshow(patch_img.numpy().astype(\"uint8\"))\n",
    "    plt.axis(\"off\")"
   ]
  },
  {
   "cell_type": "code",
   "execution_count": 53,
   "metadata": {},
   "outputs": [],
   "source": [
    "class PatchEncoder(layers.Layer):\n",
    "    def __init__(self, num_patches, projection_dim):\n",
    "        super(PatchEncoder, self).__init__()\n",
    "        self.num_patches = num_patches\n",
    "        self.projection = layers.Dense(units=projection_dim)\n",
    "        self.position_embedding = layers.Embedding(\n",
    "            input_dim=num_patches, output_dim=projection_dim\n",
    "        )\n",
    "\n",
    "    def call(self, patch):\n",
    "        positions = tf.range(start=0, limit=self.num_patches, delta=1)\n",
    "        encoded = self.projection(patch) + self.position_embedding(positions)\n",
    "        return encoded"
   ]
  },
  {
   "cell_type": "code",
   "execution_count": 54,
   "metadata": {},
   "outputs": [],
   "source": [
    "def create_vit_classifier():\n",
    "    inputs = layers.Input(shape=input_shape)\n",
    "    # Augment data.\n",
    "    augmented = data_augmentation(inputs)\n",
    "    # Create patches.\n",
    "    patches = Patches(patch_size)(augmented)\n",
    "    # Encode patches.\n",
    "    encoded_patches = PatchEncoder(num_patches, projection_dim)(patches)\n",
    "\n",
    "    # Create multiple layers of the Transformer block.\n",
    "    for _ in range(transformer_layers):\n",
    "        # Layer normalization 1.\n",
    "        x1 = layers.LayerNormalization(epsilon=1e-6)(encoded_patches)\n",
    "        # Create a multi-head attention layer.\n",
    "        attention_output = layers.MultiHeadAttention(\n",
    "            num_heads=num_heads, key_dim=projection_dim, dropout=0.1\n",
    "        )(x1, x1)\n",
    "        # Skip connection 1.\n",
    "        x2 = layers.Add()([attention_output, encoded_patches])\n",
    "        # Layer normalization 2.\n",
    "        x3 = layers.LayerNormalization(epsilon=1e-6)(x2)\n",
    "        # MLP.\n",
    "        x3 = mlp(x3, hidden_units=transformer_units, dropout_rate=0.1)\n",
    "        # Skip connection 2.\n",
    "        encoded_patches = layers.Add()([x3, x2])\n",
    "\n",
    "    # Create a [batch_size, projection_dim] tensor.\n",
    "    representation = layers.LayerNormalization(epsilon=1e-6)(encoded_patches)\n",
    "    representation = layers.Flatten()(representation)\n",
    "    representation = layers.Dropout(0.5)(representation)\n",
    "    # Add MLP.\n",
    "    features = mlp(representation, hidden_units=mlp_head_units, dropout_rate=0.5)\n",
    "    # Classify outputs.\n",
    "    logits = layers.Dense(num_classes)(features)\n",
    "    # Create the Keras model.\n",
    "    model = keras.Model(inputs=inputs, outputs=logits)\n",
    "    return model"
   ]
  },
  {
   "cell_type": "code",
   "execution_count": 55,
   "metadata": {},
   "outputs": [
    {
     "name": "stdout",
     "output_type": "stream",
     "text": [
      "Epoch 1/100\n",
      "39/39 [==============================] - 11s 112ms/step - loss: 7.0012 - accuracy: 0.4245 - top-5-accuracy: 1.0000 - val_loss: 1.5672 - val_accuracy: 0.6624 - val_top-5-accuracy: 1.0000\n",
      "Epoch 2/100\n",
      "39/39 [==============================] - 3s 89ms/step - loss: 3.2219 - accuracy: 0.4972 - top-5-accuracy: 1.0000 - val_loss: 1.1400 - val_accuracy: 0.4586 - val_top-5-accuracy: 1.0000\n",
      "Epoch 3/100\n",
      "39/39 [==============================] - 4s 98ms/step - loss: 1.9793 - accuracy: 0.4514 - top-5-accuracy: 1.0000 - val_loss: 0.7710 - val_accuracy: 0.6497 - val_top-5-accuracy: 1.0000\n",
      "Epoch 4/100\n",
      "39/39 [==============================] - 3s 88ms/step - loss: 1.1801 - accuracy: 0.5271 - top-5-accuracy: 1.0000 - val_loss: 0.7650 - val_accuracy: 0.6879 - val_top-5-accuracy: 1.0000\n",
      "Epoch 5/100\n",
      "39/39 [==============================] - 3s 88ms/step - loss: 1.1350 - accuracy: 0.5619 - top-5-accuracy: 1.0000 - val_loss: 0.7432 - val_accuracy: 0.6497 - val_top-5-accuracy: 1.0000\n",
      "Epoch 6/100\n",
      "39/39 [==============================] - 4s 99ms/step - loss: 1.0052 - accuracy: 0.5876 - top-5-accuracy: 1.0000 - val_loss: 0.7221 - val_accuracy: 0.6752 - val_top-5-accuracy: 1.0000\n",
      "Epoch 7/100\n",
      "39/39 [==============================] - 4s 90ms/step - loss: 1.0431 - accuracy: 0.5712 - top-5-accuracy: 1.0000 - val_loss: 0.8435 - val_accuracy: 0.6306 - val_top-5-accuracy: 1.0000\n",
      "Epoch 8/100\n",
      "39/39 [==============================] - 4s 90ms/step - loss: 0.9228 - accuracy: 0.5677 - top-5-accuracy: 1.0000 - val_loss: 0.8670 - val_accuracy: 0.5223 - val_top-5-accuracy: 1.0000\n",
      "Epoch 9/100\n",
      "39/39 [==============================] - 4s 103ms/step - loss: 0.8697 - accuracy: 0.6102 - top-5-accuracy: 1.0000 - val_loss: 0.7629 - val_accuracy: 0.6561 - val_top-5-accuracy: 1.0000\n",
      "Epoch 10/100\n",
      "39/39 [==============================] - 4s 93ms/step - loss: 0.9247 - accuracy: 0.6126 - top-5-accuracy: 1.0000 - val_loss: 0.7286 - val_accuracy: 0.6688 - val_top-5-accuracy: 1.0000\n",
      "Epoch 11/100\n",
      "39/39 [==============================] - 4s 104ms/step - loss: 0.9096 - accuracy: 0.5752 - top-5-accuracy: 1.0000 - val_loss: 0.7296 - val_accuracy: 0.6943 - val_top-5-accuracy: 1.0000\n",
      "Epoch 12/100\n",
      "39/39 [==============================] - 4s 100ms/step - loss: 0.8552 - accuracy: 0.6174 - top-5-accuracy: 1.0000 - val_loss: 0.7266 - val_accuracy: 0.6561 - val_top-5-accuracy: 1.0000\n",
      "Epoch 13/100\n",
      "39/39 [==============================] - 4s 100ms/step - loss: 0.8974 - accuracy: 0.6125 - top-5-accuracy: 1.0000 - val_loss: 0.7094 - val_accuracy: 0.6369 - val_top-5-accuracy: 1.0000\n",
      "Epoch 14/100\n",
      "39/39 [==============================] - 4s 92ms/step - loss: 0.8422 - accuracy: 0.6304 - top-5-accuracy: 1.0000 - val_loss: 0.7689 - val_accuracy: 0.6306 - val_top-5-accuracy: 1.0000\n",
      "Epoch 15/100\n",
      "39/39 [==============================] - 4s 96ms/step - loss: 0.8419 - accuracy: 0.6284 - top-5-accuracy: 1.0000 - val_loss: 0.7345 - val_accuracy: 0.6624 - val_top-5-accuracy: 1.0000\n",
      "Epoch 16/100\n",
      "39/39 [==============================] - 4s 92ms/step - loss: 0.8838 - accuracy: 0.5941 - top-5-accuracy: 1.0000 - val_loss: 0.7438 - val_accuracy: 0.6879 - val_top-5-accuracy: 1.0000\n",
      "Epoch 17/100\n",
      "39/39 [==============================] - 4s 91ms/step - loss: 0.8813 - accuracy: 0.5866 - top-5-accuracy: 1.0000 - val_loss: 0.7886 - val_accuracy: 0.6561 - val_top-5-accuracy: 1.0000\n",
      "Epoch 18/100\n",
      "39/39 [==============================] - 4s 93ms/step - loss: 0.9045 - accuracy: 0.5472 - top-5-accuracy: 1.0000 - val_loss: 0.6697 - val_accuracy: 0.7070 - val_top-5-accuracy: 1.0000\n",
      "Epoch 19/100\n",
      "39/39 [==============================] - 4s 91ms/step - loss: 0.8025 - accuracy: 0.6270 - top-5-accuracy: 1.0000 - val_loss: 0.6849 - val_accuracy: 0.7070 - val_top-5-accuracy: 1.0000\n",
      "Epoch 20/100\n",
      "39/39 [==============================] - 3s 88ms/step - loss: 0.8259 - accuracy: 0.6336 - top-5-accuracy: 1.0000 - val_loss: 0.7394 - val_accuracy: 0.5924 - val_top-5-accuracy: 1.0000\n",
      "Epoch 21/100\n",
      "39/39 [==============================] - 3s 89ms/step - loss: 0.8103 - accuracy: 0.6368 - top-5-accuracy: 1.0000 - val_loss: 0.6519 - val_accuracy: 0.7006 - val_top-5-accuracy: 1.0000\n",
      "Epoch 22/100\n",
      "39/39 [==============================] - 3s 89ms/step - loss: 0.8086 - accuracy: 0.6434 - top-5-accuracy: 1.0000 - val_loss: 0.6124 - val_accuracy: 0.7070 - val_top-5-accuracy: 1.0000\n",
      "Epoch 23/100\n",
      "39/39 [==============================] - 3s 88ms/step - loss: 0.9007 - accuracy: 0.6154 - top-5-accuracy: 1.0000 - val_loss: 0.7391 - val_accuracy: 0.7134 - val_top-5-accuracy: 1.0000\n",
      "Epoch 24/100\n",
      "39/39 [==============================] - 3s 89ms/step - loss: 0.8860 - accuracy: 0.6208 - top-5-accuracy: 1.0000 - val_loss: 0.6432 - val_accuracy: 0.6943 - val_top-5-accuracy: 1.0000\n",
      "Epoch 25/100\n",
      "39/39 [==============================] - 4s 93ms/step - loss: 0.8089 - accuracy: 0.6416 - top-5-accuracy: 1.0000 - val_loss: 0.7212 - val_accuracy: 0.7006 - val_top-5-accuracy: 1.0000\n",
      "Epoch 26/100\n",
      "39/39 [==============================] - 3s 89ms/step - loss: 0.8044 - accuracy: 0.6212 - top-5-accuracy: 1.0000 - val_loss: 0.6876 - val_accuracy: 0.6943 - val_top-5-accuracy: 1.0000\n",
      "Epoch 27/100\n",
      "39/39 [==============================] - 4s 94ms/step - loss: 0.8263 - accuracy: 0.6121 - top-5-accuracy: 1.0000 - val_loss: 0.6937 - val_accuracy: 0.6815 - val_top-5-accuracy: 1.0000\n",
      "Epoch 28/100\n",
      "39/39 [==============================] - 4s 95ms/step - loss: 0.8073 - accuracy: 0.6505 - top-5-accuracy: 1.0000 - val_loss: 0.6654 - val_accuracy: 0.7197 - val_top-5-accuracy: 1.0000\n",
      "Epoch 29/100\n",
      "39/39 [==============================] - 4s 91ms/step - loss: 0.7574 - accuracy: 0.6457 - top-5-accuracy: 1.0000 - val_loss: 0.6767 - val_accuracy: 0.6433 - val_top-5-accuracy: 1.0000\n",
      "Epoch 30/100\n",
      "39/39 [==============================] - 3s 89ms/step - loss: 0.8076 - accuracy: 0.6761 - top-5-accuracy: 1.0000 - val_loss: 0.7254 - val_accuracy: 0.7070 - val_top-5-accuracy: 1.0000\n",
      "Epoch 31/100\n",
      "39/39 [==============================] - 3s 89ms/step - loss: 0.7289 - accuracy: 0.6916 - top-5-accuracy: 1.0000 - val_loss: 0.6412 - val_accuracy: 0.7006 - val_top-5-accuracy: 1.0000\n",
      "Epoch 32/100\n",
      "39/39 [==============================] - 3s 89ms/step - loss: 0.7872 - accuracy: 0.6250 - top-5-accuracy: 1.0000 - val_loss: 0.7289 - val_accuracy: 0.6879 - val_top-5-accuracy: 1.0000\n",
      "Epoch 33/100\n",
      "39/39 [==============================] - 4s 92ms/step - loss: 0.7379 - accuracy: 0.7079 - top-5-accuracy: 1.0000 - val_loss: 0.6576 - val_accuracy: 0.7197 - val_top-5-accuracy: 1.0000\n",
      "Epoch 34/100\n",
      "39/39 [==============================] - 3s 89ms/step - loss: 0.7312 - accuracy: 0.6786 - top-5-accuracy: 1.0000 - val_loss: 0.7003 - val_accuracy: 0.6752 - val_top-5-accuracy: 1.0000\n",
      "Epoch 35/100\n",
      "39/39 [==============================] - 3s 89ms/step - loss: 0.7071 - accuracy: 0.6778 - top-5-accuracy: 1.0000 - val_loss: 0.6139 - val_accuracy: 0.7070 - val_top-5-accuracy: 1.0000\n",
      "Epoch 36/100\n",
      "39/39 [==============================] - 4s 91ms/step - loss: 0.8047 - accuracy: 0.6636 - top-5-accuracy: 1.0000 - val_loss: 0.6244 - val_accuracy: 0.7134 - val_top-5-accuracy: 1.0000\n",
      "Epoch 37/100\n",
      "39/39 [==============================] - 3s 89ms/step - loss: 0.7132 - accuracy: 0.6773 - top-5-accuracy: 1.0000 - val_loss: 0.6924 - val_accuracy: 0.6879 - val_top-5-accuracy: 1.0000\n",
      "Epoch 38/100\n",
      "39/39 [==============================] - 3s 90ms/step - loss: 0.8243 - accuracy: 0.6729 - top-5-accuracy: 1.0000 - val_loss: 0.6099 - val_accuracy: 0.7197 - val_top-5-accuracy: 1.0000\n",
      "Epoch 39/100\n",
      "39/39 [==============================] - 3s 90ms/step - loss: 0.6374 - accuracy: 0.7409 - top-5-accuracy: 1.0000 - val_loss: 0.6379 - val_accuracy: 0.6879 - val_top-5-accuracy: 1.0000\n",
      "Epoch 40/100\n",
      "39/39 [==============================] - 4s 90ms/step - loss: 0.7984 - accuracy: 0.6825 - top-5-accuracy: 1.0000 - val_loss: 0.6227 - val_accuracy: 0.7134 - val_top-5-accuracy: 1.0000\n",
      "Epoch 41/100\n",
      "39/39 [==============================] - 4s 90ms/step - loss: 0.7182 - accuracy: 0.6776 - top-5-accuracy: 1.0000 - val_loss: 0.6443 - val_accuracy: 0.7261 - val_top-5-accuracy: 1.0000\n",
      "Epoch 42/100\n",
      "39/39 [==============================] - 3s 89ms/step - loss: 0.6812 - accuracy: 0.6943 - top-5-accuracy: 1.0000 - val_loss: 0.6061 - val_accuracy: 0.7070 - val_top-5-accuracy: 1.0000\n",
      "Epoch 43/100\n",
      "39/39 [==============================] - 3s 89ms/step - loss: 0.6522 - accuracy: 0.6826 - top-5-accuracy: 1.0000 - val_loss: 0.5633 - val_accuracy: 0.7516 - val_top-5-accuracy: 1.0000\n",
      "Epoch 44/100\n",
      "39/39 [==============================] - 3s 90ms/step - loss: 0.6489 - accuracy: 0.7183 - top-5-accuracy: 1.0000 - val_loss: 0.6338 - val_accuracy: 0.7070 - val_top-5-accuracy: 1.0000\n",
      "Epoch 45/100\n",
      "39/39 [==============================] - 4s 93ms/step - loss: 0.7356 - accuracy: 0.6961 - top-5-accuracy: 1.0000 - val_loss: 0.6213 - val_accuracy: 0.6943 - val_top-5-accuracy: 1.0000\n",
      "Epoch 46/100\n",
      "39/39 [==============================] - 3s 90ms/step - loss: 0.7321 - accuracy: 0.6666 - top-5-accuracy: 1.0000 - val_loss: 0.6412 - val_accuracy: 0.6879 - val_top-5-accuracy: 1.0000\n",
      "Epoch 47/100\n",
      "39/39 [==============================] - 4s 91ms/step - loss: 0.6539 - accuracy: 0.7052 - top-5-accuracy: 1.0000 - val_loss: 0.6331 - val_accuracy: 0.7452 - val_top-5-accuracy: 1.0000\n",
      "Epoch 48/100\n",
      "39/39 [==============================] - 3s 88ms/step - loss: 0.6960 - accuracy: 0.7100 - top-5-accuracy: 1.0000 - val_loss: 0.6803 - val_accuracy: 0.7452 - val_top-5-accuracy: 1.0000\n",
      "Epoch 49/100\n",
      "39/39 [==============================] - 3s 88ms/step - loss: 0.6814 - accuracy: 0.7158 - top-5-accuracy: 1.0000 - val_loss: 0.6181 - val_accuracy: 0.7197 - val_top-5-accuracy: 1.0000\n",
      "Epoch 50/100\n",
      "39/39 [==============================] - 3s 89ms/step - loss: 0.6642 - accuracy: 0.7186 - top-5-accuracy: 1.0000 - val_loss: 0.6762 - val_accuracy: 0.7389 - val_top-5-accuracy: 1.0000\n",
      "Epoch 51/100\n",
      "39/39 [==============================] - 3s 89ms/step - loss: 0.6312 - accuracy: 0.7274 - top-5-accuracy: 1.0000 - val_loss: 0.6551 - val_accuracy: 0.7261 - val_top-5-accuracy: 1.0000\n",
      "Epoch 52/100\n",
      "39/39 [==============================] - 3s 88ms/step - loss: 0.5568 - accuracy: 0.7451 - top-5-accuracy: 1.0000 - val_loss: 0.6190 - val_accuracy: 0.7516 - val_top-5-accuracy: 1.0000\n",
      "Epoch 53/100\n",
      "39/39 [==============================] - 3s 88ms/step - loss: 0.6411 - accuracy: 0.7397 - top-5-accuracy: 1.0000 - val_loss: 0.5842 - val_accuracy: 0.7580 - val_top-5-accuracy: 1.0000\n",
      "Epoch 54/100\n",
      "39/39 [==============================] - 3s 88ms/step - loss: 0.7420 - accuracy: 0.6797 - top-5-accuracy: 1.0000 - val_loss: 0.6268 - val_accuracy: 0.7452 - val_top-5-accuracy: 1.0000\n",
      "Epoch 55/100\n",
      "39/39 [==============================] - 3s 89ms/step - loss: 0.6422 - accuracy: 0.7204 - top-5-accuracy: 1.0000 - val_loss: 0.6466 - val_accuracy: 0.7070 - val_top-5-accuracy: 1.0000\n",
      "Epoch 56/100\n",
      "39/39 [==============================] - 3s 89ms/step - loss: 0.6053 - accuracy: 0.7295 - top-5-accuracy: 1.0000 - val_loss: 0.6114 - val_accuracy: 0.7197 - val_top-5-accuracy: 1.0000\n",
      "Epoch 57/100\n",
      "39/39 [==============================] - 3s 89ms/step - loss: 0.7097 - accuracy: 0.7114 - top-5-accuracy: 1.0000 - val_loss: 0.6549 - val_accuracy: 0.7006 - val_top-5-accuracy: 1.0000\n",
      "Epoch 58/100\n",
      "39/39 [==============================] - 3s 89ms/step - loss: 0.6597 - accuracy: 0.7146 - top-5-accuracy: 1.0000 - val_loss: 0.5765 - val_accuracy: 0.7643 - val_top-5-accuracy: 1.0000\n",
      "Epoch 59/100\n",
      "39/39 [==============================] - 3s 89ms/step - loss: 0.5663 - accuracy: 0.7602 - top-5-accuracy: 1.0000 - val_loss: 0.6739 - val_accuracy: 0.7389 - val_top-5-accuracy: 1.0000\n",
      "Epoch 60/100\n",
      "39/39 [==============================] - 3s 89ms/step - loss: 0.5873 - accuracy: 0.7506 - top-5-accuracy: 1.0000 - val_loss: 0.5631 - val_accuracy: 0.7580 - val_top-5-accuracy: 1.0000\n",
      "Epoch 61/100\n",
      "39/39 [==============================] - 3s 89ms/step - loss: 0.5623 - accuracy: 0.7503 - top-5-accuracy: 1.0000 - val_loss: 0.5736 - val_accuracy: 0.7707 - val_top-5-accuracy: 1.0000\n",
      "Epoch 62/100\n",
      "39/39 [==============================] - 3s 89ms/step - loss: 0.5691 - accuracy: 0.7757 - top-5-accuracy: 1.0000 - val_loss: 0.5457 - val_accuracy: 0.7707 - val_top-5-accuracy: 1.0000\n",
      "Epoch 63/100\n",
      "39/39 [==============================] - 4s 90ms/step - loss: 0.6027 - accuracy: 0.7301 - top-5-accuracy: 1.0000 - val_loss: 0.6273 - val_accuracy: 0.7389 - val_top-5-accuracy: 1.0000\n",
      "Epoch 64/100\n",
      "39/39 [==============================] - 3s 90ms/step - loss: 0.5807 - accuracy: 0.7730 - top-5-accuracy: 1.0000 - val_loss: 0.5202 - val_accuracy: 0.7834 - val_top-5-accuracy: 1.0000\n",
      "Epoch 65/100\n",
      "39/39 [==============================] - 3s 89ms/step - loss: 0.5067 - accuracy: 0.7858 - top-5-accuracy: 1.0000 - val_loss: 0.4913 - val_accuracy: 0.7898 - val_top-5-accuracy: 1.0000\n",
      "Epoch 66/100\n",
      "39/39 [==============================] - 3s 89ms/step - loss: 0.5674 - accuracy: 0.7661 - top-5-accuracy: 1.0000 - val_loss: 0.6103 - val_accuracy: 0.7898 - val_top-5-accuracy: 1.0000\n",
      "Epoch 67/100\n",
      "39/39 [==============================] - 4s 92ms/step - loss: 0.5717 - accuracy: 0.7824 - top-5-accuracy: 1.0000 - val_loss: 0.5784 - val_accuracy: 0.7898 - val_top-5-accuracy: 1.0000\n",
      "Epoch 68/100\n",
      "39/39 [==============================] - 4s 91ms/step - loss: 0.4877 - accuracy: 0.8002 - top-5-accuracy: 1.0000 - val_loss: 0.5471 - val_accuracy: 0.7962 - val_top-5-accuracy: 1.0000\n",
      "Epoch 69/100\n",
      "39/39 [==============================] - 3s 89ms/step - loss: 0.4737 - accuracy: 0.8024 - top-5-accuracy: 1.0000 - val_loss: 0.6169 - val_accuracy: 0.7962 - val_top-5-accuracy: 1.0000\n",
      "Epoch 70/100\n",
      "39/39 [==============================] - 3s 89ms/step - loss: 0.5682 - accuracy: 0.7656 - top-5-accuracy: 1.0000 - val_loss: 0.5824 - val_accuracy: 0.7962 - val_top-5-accuracy: 1.0000\n",
      "Epoch 71/100\n",
      "39/39 [==============================] - 4s 100ms/step - loss: 0.5455 - accuracy: 0.7601 - top-5-accuracy: 1.0000 - val_loss: 0.5488 - val_accuracy: 0.7452 - val_top-5-accuracy: 1.0000\n",
      "Epoch 72/100\n",
      "39/39 [==============================] - 4s 104ms/step - loss: 0.5450 - accuracy: 0.7873 - top-5-accuracy: 1.0000 - val_loss: 0.5462 - val_accuracy: 0.8025 - val_top-5-accuracy: 1.0000\n",
      "Epoch 73/100\n",
      "39/39 [==============================] - 4s 93ms/step - loss: 0.5073 - accuracy: 0.7959 - top-5-accuracy: 1.0000 - val_loss: 0.5111 - val_accuracy: 0.7898 - val_top-5-accuracy: 1.0000\n",
      "Epoch 74/100\n",
      "39/39 [==============================] - 4s 97ms/step - loss: 0.5744 - accuracy: 0.7699 - top-5-accuracy: 1.0000 - val_loss: 0.5172 - val_accuracy: 0.7580 - val_top-5-accuracy: 1.0000\n",
      "Epoch 75/100\n",
      "39/39 [==============================] - 4s 102ms/step - loss: 0.5390 - accuracy: 0.7728 - top-5-accuracy: 1.0000 - val_loss: 0.6238 - val_accuracy: 0.7834 - val_top-5-accuracy: 1.0000\n",
      "Epoch 76/100\n",
      "39/39 [==============================] - 5s 117ms/step - loss: 0.5549 - accuracy: 0.7731 - top-5-accuracy: 1.0000 - val_loss: 0.5868 - val_accuracy: 0.7834 - val_top-5-accuracy: 1.0000\n",
      "Epoch 77/100\n",
      "39/39 [==============================] - 4s 101ms/step - loss: 0.5205 - accuracy: 0.8190 - top-5-accuracy: 1.0000 - val_loss: 0.5797 - val_accuracy: 0.7898 - val_top-5-accuracy: 1.0000\n",
      "Epoch 78/100\n",
      "39/39 [==============================] - 4s 102ms/step - loss: 0.4811 - accuracy: 0.7917 - top-5-accuracy: 1.0000 - val_loss: 0.6177 - val_accuracy: 0.7707 - val_top-5-accuracy: 1.0000\n",
      "Epoch 79/100\n",
      "39/39 [==============================] - 4s 97ms/step - loss: 0.5303 - accuracy: 0.8122 - top-5-accuracy: 1.0000 - val_loss: 0.5496 - val_accuracy: 0.7834 - val_top-5-accuracy: 1.0000\n",
      "Epoch 80/100\n",
      "39/39 [==============================] - 3s 89ms/step - loss: 0.4105 - accuracy: 0.8586 - top-5-accuracy: 1.0000 - val_loss: 0.5267 - val_accuracy: 0.7707 - val_top-5-accuracy: 1.0000\n",
      "Epoch 81/100\n",
      "39/39 [==============================] - 3s 89ms/step - loss: 0.5025 - accuracy: 0.7749 - top-5-accuracy: 1.0000 - val_loss: 0.5399 - val_accuracy: 0.7580 - val_top-5-accuracy: 1.0000\n",
      "Epoch 82/100\n",
      "39/39 [==============================] - 4s 98ms/step - loss: 0.4860 - accuracy: 0.8020 - top-5-accuracy: 1.0000 - val_loss: 0.5375 - val_accuracy: 0.8153 - val_top-5-accuracy: 1.0000\n",
      "Epoch 83/100\n",
      "39/39 [==============================] - 4s 91ms/step - loss: 0.4911 - accuracy: 0.8024 - top-5-accuracy: 1.0000 - val_loss: 0.5539 - val_accuracy: 0.8089 - val_top-5-accuracy: 1.0000\n",
      "Epoch 84/100\n",
      "39/39 [==============================] - 4s 98ms/step - loss: 0.4866 - accuracy: 0.8155 - top-5-accuracy: 1.0000 - val_loss: 0.4847 - val_accuracy: 0.7834 - val_top-5-accuracy: 1.0000\n",
      "Epoch 85/100\n",
      "39/39 [==============================] - 4s 93ms/step - loss: 0.5537 - accuracy: 0.7921 - top-5-accuracy: 1.0000 - val_loss: 0.5540 - val_accuracy: 0.7834 - val_top-5-accuracy: 1.0000\n",
      "Epoch 86/100\n",
      "39/39 [==============================] - 3s 90ms/step - loss: 0.4600 - accuracy: 0.8053 - top-5-accuracy: 1.0000 - val_loss: 0.5441 - val_accuracy: 0.7962 - val_top-5-accuracy: 1.0000\n",
      "Epoch 87/100\n",
      "39/39 [==============================] - 4s 94ms/step - loss: 0.4631 - accuracy: 0.8130 - top-5-accuracy: 1.0000 - val_loss: 0.7786 - val_accuracy: 0.7070 - val_top-5-accuracy: 1.0000\n",
      "Epoch 88/100\n",
      "39/39 [==============================] - 4s 90ms/step - loss: 0.5997 - accuracy: 0.7560 - top-5-accuracy: 1.0000 - val_loss: 0.6526 - val_accuracy: 0.7452 - val_top-5-accuracy: 1.0000\n",
      "Epoch 89/100\n",
      "39/39 [==============================] - 3s 89ms/step - loss: 0.4211 - accuracy: 0.8352 - top-5-accuracy: 1.0000 - val_loss: 0.5930 - val_accuracy: 0.7516 - val_top-5-accuracy: 1.0000\n",
      "Epoch 90/100\n",
      "39/39 [==============================] - 4s 94ms/step - loss: 0.4952 - accuracy: 0.7876 - top-5-accuracy: 1.0000 - val_loss: 0.5208 - val_accuracy: 0.7580 - val_top-5-accuracy: 1.0000\n",
      "Epoch 91/100\n",
      "39/39 [==============================] - 3s 90ms/step - loss: 0.5279 - accuracy: 0.7684 - top-5-accuracy: 1.0000 - val_loss: 0.4924 - val_accuracy: 0.8089 - val_top-5-accuracy: 1.0000\n",
      "Epoch 92/100\n",
      "39/39 [==============================] - 3s 89ms/step - loss: 0.3778 - accuracy: 0.8264 - top-5-accuracy: 1.0000 - val_loss: 0.4910 - val_accuracy: 0.7516 - val_top-5-accuracy: 1.0000\n",
      "Epoch 93/100\n",
      "39/39 [==============================] - 4s 94ms/step - loss: 0.5248 - accuracy: 0.7876 - top-5-accuracy: 1.0000 - val_loss: 0.4642 - val_accuracy: 0.8217 - val_top-5-accuracy: 1.0000\n",
      "Epoch 94/100\n",
      "39/39 [==============================] - 3s 89ms/step - loss: 0.3328 - accuracy: 0.8776 - top-5-accuracy: 1.0000 - val_loss: 0.5097 - val_accuracy: 0.8025 - val_top-5-accuracy: 1.0000\n",
      "Epoch 95/100\n",
      "39/39 [==============================] - 3s 89ms/step - loss: 0.4592 - accuracy: 0.8139 - top-5-accuracy: 1.0000 - val_loss: 0.5156 - val_accuracy: 0.7962 - val_top-5-accuracy: 1.0000\n",
      "Epoch 96/100\n",
      "39/39 [==============================] - 4s 94ms/step - loss: 0.3593 - accuracy: 0.8742 - top-5-accuracy: 1.0000 - val_loss: 0.5556 - val_accuracy: 0.7898 - val_top-5-accuracy: 1.0000\n",
      "Epoch 97/100\n",
      "39/39 [==============================] - 3s 89ms/step - loss: 0.5120 - accuracy: 0.8057 - top-5-accuracy: 1.0000 - val_loss: 0.4847 - val_accuracy: 0.7898 - val_top-5-accuracy: 1.0000\n",
      "Epoch 98/100\n",
      "39/39 [==============================] - 3s 90ms/step - loss: 0.4783 - accuracy: 0.8262 - top-5-accuracy: 1.0000 - val_loss: 0.4993 - val_accuracy: 0.8025 - val_top-5-accuracy: 1.0000\n",
      "Epoch 99/100\n",
      "39/39 [==============================] - 4s 94ms/step - loss: 0.4145 - accuracy: 0.8486 - top-5-accuracy: 1.0000 - val_loss: 0.4988 - val_accuracy: 0.8089 - val_top-5-accuracy: 1.0000\n",
      "Epoch 100/100\n",
      "39/39 [==============================] - 3s 89ms/step - loss: 0.4051 - accuracy: 0.8459 - top-5-accuracy: 1.0000 - val_loss: 0.5128 - val_accuracy: 0.7898 - val_top-5-accuracy: 1.0000\n",
      "7/7 [==============================] - 0s 30ms/step - loss: 0.4517 - accuracy: 0.8418 - top-5-accuracy: 1.0000\n",
      "Test accuracy: 84.18%\n",
      "Test top 5 accuracy: 100.0%\n"
     ]
    }
   ],
   "source": [
    "def run_experiment(model):\n",
    "    optimizer = tfa.optimizers.AdamW(\n",
    "        learning_rate=learning_rate, weight_decay=weight_decay\n",
    "    )\n",
    "\n",
    "    model.compile(\n",
    "        optimizer=optimizer,\n",
    "        loss=keras.losses.SparseCategoricalCrossentropy(from_logits=True),\n",
    "        metrics=[\n",
    "            keras.metrics.SparseCategoricalAccuracy(name=\"accuracy\"),\n",
    "            keras.metrics.SparseTopKCategoricalAccuracy(5, name=\"top-5-accuracy\"),\n",
    "        ],\n",
    "    )\n",
    "\n",
    "#     checkpoint_filepath = \"/tmp/checkpoint\"\n",
    "#     checkpoint_callback = keras.callbacks.ModelCheckpoint(\n",
    "#         checkpoint_filepath,\n",
    "#         monitor=\"val_accuracy\",\n",
    "#         save_best_only=True,\n",
    "#         save_weights_only=True,\n",
    "#     )\n",
    "\n",
    "    history = model.fit(\n",
    "        x=x_train,\n",
    "        y=y_train,\n",
    "        batch_size=batch_size,\n",
    "        epochs=num_epochs,\n",
    "        validation_split=0.2,\n",
    "        #callbacks=[checkpoint_callback],\n",
    "    )\n",
    "\n",
    "#     model.load_weights(checkpoint_filepath)\n",
    "    _, accuracy, top_5_accuracy = model.evaluate(x_test, y_test)\n",
    "    print(f\"Test accuracy: {round(accuracy * 100, 2)}%\")\n",
    "    print(f\"Test top 5 accuracy: {round(top_5_accuracy * 100, 2)}%\")\n",
    "\n",
    "    return history\n",
    "\n",
    "\n",
    "vit_classifier = create_vit_classifier()\n",
    "history = run_experiment(vit_classifier)"
   ]
  },
  {
   "cell_type": "code",
   "execution_count": 58,
   "metadata": {},
   "outputs": [
    {
     "data": {
      "image/png": "[encoded data removed]",
      "text/plain": [
       "<Figure size 432x288 with 1 Axes>"
      ]
     },
     "metadata": {
      "needs_background": "light"
     },
     "output_type": "display_data"
    }
   ],
   "source": [
    "plt.plot(history.history['accuracy'])\n",
    "plt.plot(history.history['val_accuracy'])\n",
    "plt.title('model accuracy')\n",
    "plt.ylabel('accuracy')\n",
    "plt.xlabel('epoch')\n",
    "plt.legend(['train', 'val'], loc='upper left')\n",
    "plt.show()"
   ]
  },
  {
   "cell_type": "code",
   "execution_count": 59,
   "metadata": {},
   "outputs": [
    {
     "data": {
      "image/png": "[encoded data removed]",
      "text/plain": [
       "<Figure size 432x288 with 1 Axes>"
      ]
     },
     "metadata": {
      "needs_background": "light"
     },
     "output_type": "display_data"
    }
   ],
   "source": [
    "plt.plot(history.history['loss'])\n",
    "plt.plot(history.history['val_loss'])\n",
    "plt.title('model loss')\n",
    "plt.ylabel('loss')\n",
    "plt.xlabel('epoch')\n",
    "plt.legend(['train', 'val'], loc='upper left')\n",
    "plt.show()"
   ]
  },
  {
   "cell_type": "code",
   "execution_count": null,
   "metadata": {},
   "outputs": [],
   "source": []
  }
 ],
 "metadata": {
  "kernelspec": {
   "display_name": "tf24",
   "language": "python",
   "name": "tf24"
  },
  "language_info": {
   "codemirror_mode": {
    "name": "ipython",
    "version": 3
   },
   "file_extension": ".py",
   "mimetype": "text/x-python",
   "name": "python",
   "nbconvert_exporter": "python",
   "pygments_lexer": "ipython3",
   "version": "3.8.5"
  }
 },
 "nbformat": 4,
 "nbformat_minor": 4
}
