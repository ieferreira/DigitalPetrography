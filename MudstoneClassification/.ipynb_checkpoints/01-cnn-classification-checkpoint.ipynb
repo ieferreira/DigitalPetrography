{
 "cells": [
  {
   "cell_type": "code",
   "execution_count": 1,
   "metadata": {},
   "outputs": [],
   "source": [
    "import numpy as np \n",
    "import matplotlib.pyplot as plt \n",
    "import pandas as pd "
   ]
  },
  {
   "cell_type": "code",
   "execution_count": 33,
   "metadata": {},
   "outputs": [],
   "source": [
    "batch_size = 16\n",
    "ls = [\"AMdst\", \"BMdst\", \"MCcSt\", \"MCSt\"]"
   ]
  },
  {
   "cell_type": "code",
   "execution_count": 34,
   "metadata": {},
   "outputs": [
    {
     "data": {
      "text/plain": [
       "[PhysicalDevice(name='/physical_device:GPU:0', device_type='GPU')]"
      ]
     },
     "execution_count": 34,
     "metadata": {},
     "output_type": "execute_result"
    }
   ],
   "source": [
    "import tensorflow as tf \n",
    "import keras\n",
    "config = tf.compat.v1.ConfigProto()\n",
    "config.gpu_options.allow_growth = True\n",
    "sess = tf.compat.v1.Session(config=config)\n",
    "from PIL import ImageFile\n",
    "ImageFile.LOAD_TRUNCATED_IMAGES = True\n",
    "\n",
    "tf.config.list_physical_devices('GPU')"
   ]
  },
  {
   "cell_type": "code",
   "execution_count": 53,
   "metadata": {},
   "outputs": [
    {
     "name": "stdout",
     "output_type": "stream",
     "text": [
      "Found 413 images belonging to 4 classes.\n",
      "Found 100 images belonging to 4 classes.\n"
     ]
    }
   ],
   "source": [
    "from tensorflow.keras.preprocessing.image import ImageDataGenerator\n",
    "\n",
    "# preprocess and augmentate images dataset\n",
    "\n",
    "train_datagen = ImageDataGenerator(\n",
    "        validation_split=0.2,\n",
    "        rescale=1/255,\n",
    "        horizontal_flip=True,\n",
    "        fill_mode='nearest')\n",
    "\n",
    "# split in train test\n",
    "train_generator = train_datagen.flow_from_directory(\n",
    "        '',  # same dir as notebook\n",
    "        target_size=(646, 484),  #reescalar\n",
    "        batch_size=batch_size,\n",
    "        # specify classes\n",
    "        classes = ls,\n",
    "        # use as categorical classification\n",
    "        class_mode='categorical',\n",
    "        subset='training')\n",
    "\n",
    "val_generator = train_datagen.flow_from_directory(\n",
    "\n",
    "        '',  # same dir as notebook\n",
    "        target_size=(646, 484),  # rescale to size of images\n",
    "        batch_size=batch_size,\n",
    "        # especificar clases obtenidas\n",
    "        classes = ls,\n",
    "        # use as categorical classification\n",
    "        class_mode='categorical',\n",
    "        subset='validation')"
   ]
  },
  {
   "cell_type": "markdown",
   "metadata": {},
   "source": [
    "## Model definition"
   ]
  },
  {
   "cell_type": "code",
   "execution_count": 54,
   "metadata": {},
   "outputs": [],
   "source": [
    "model = tf.keras.models.Sequential([\n",
    "    # Note the input shape is the desired size of the image 646, 484 with 3 bytes color\n",
    "    # first convolution\n",
    "    tf.keras.layers.Conv2D(16, (5,5),activation=keras.layers.LeakyReLU(alpha=0.3), input_shape=(646, 484, 3)),\n",
    "    tf.keras.layers.MaxPooling2D(2, 2),\n",
    "    # second convolution\n",
    "    tf.keras.layers.Conv2D(32, (5,5),activation=keras.layers.LeakyReLU(alpha=0.3)),\n",
    "    tf.keras.layers.MaxPooling2D(2, 2),\n",
    "    # third convolution\n",
    "    tf.keras.layers.Conv2D(32, (5,5),activation=keras.layers.LeakyReLU(alpha=0.3)),\n",
    "    tf.keras.layers.MaxPooling2D(2, 2),\n",
    "    tf.keras.layers.Flatten(),\n",
    "    # dense layers and dropout\n",
    "    tf.keras.layers.Dense(80, activation=keras.layers.LeakyReLU(alpha=0.3)),\n",
    "    tf.keras.layers.Dropout(0.3), \n",
    "    tf.keras.layers.Dense(40, activation=keras.layers.LeakyReLU(alpha=0.3)),\n",
    "    # 4 output neurons for 4 classes with the softmax activation\n",
    "    tf.keras.layers.Dense(4, activation='softmax')\n",
    "])\n",
    "\n",
    "# flatten, dense, dropout, dense, dropout\n"
   ]
  },
  {
   "cell_type": "code",
   "execution_count": 55,
   "metadata": {},
   "outputs": [
    {
     "name": "stdout",
     "output_type": "stream",
     "text": [
      "Model: \"sequential_8\"\n",
      "_________________________________________________________________\n",
      "Layer (type)                 Output Shape              Param #   \n",
      "=================================================================\n",
      "conv2d_16 (Conv2D)           (None, 642, 480, 16)      1216      \n",
      "_________________________________________________________________\n",
      "max_pooling2d_16 (MaxPooling (None, 321, 240, 16)      0         \n",
      "_________________________________________________________________\n",
      "conv2d_17 (Conv2D)           (None, 317, 236, 32)      12832     \n",
      "_________________________________________________________________\n",
      "max_pooling2d_17 (MaxPooling (None, 158, 118, 32)      0         \n",
      "_________________________________________________________________\n",
      "conv2d_18 (Conv2D)           (None, 154, 114, 32)      25632     \n",
      "_________________________________________________________________\n",
      "max_pooling2d_18 (MaxPooling (None, 77, 57, 32)        0         \n",
      "_________________________________________________________________\n",
      "flatten_8 (Flatten)          (None, 140448)            0         \n",
      "_________________________________________________________________\n",
      "dense_24 (Dense)             (None, 80)                11235920  \n",
      "_________________________________________________________________\n",
      "dropout_8 (Dropout)          (None, 80)                0         \n",
      "_________________________________________________________________\n",
      "dense_25 (Dense)             (None, 40)                3240      \n",
      "_________________________________________________________________\n",
      "dense_26 (Dense)             (None, 4)                 164       \n",
      "=================================================================\n",
      "Total params: 11,279,004\n",
      "Trainable params: 11,279,004\n",
      "Non-trainable params: 0\n",
      "_________________________________________________________________\n"
     ]
    }
   ],
   "source": [
    "model.summary()"
   ]
  },
  {
   "cell_type": "code",
   "execution_count": 56,
   "metadata": {},
   "outputs": [],
   "source": [
    "from tensorflow.keras.optimizers import RMSprop\n",
    "\n",
    "model.compile(loss='categorical_crossentropy',\n",
    "              optimizer=RMSprop(lr=0.001),\n",
    "              metrics=['acc'])\n",
    "n_epochs = 20"
   ]
  },
  {
   "cell_type": "code",
   "execution_count": 57,
   "metadata": {},
   "outputs": [
    {
     "name": "stdout",
     "output_type": "stream",
     "text": [
      "Found GPU at: /device:GPU:0\n"
     ]
    }
   ],
   "source": [
    "import tensorflow as tf\n",
    "device_name = tf.test.gpu_device_name()\n",
    "if device_name != \"/device:GPU:0\":\n",
    "    raise SystemError(\"GPU device not found\")\n",
    "print(\"Found GPU at: {}\".format(device_name))"
   ]
  },
  {
   "cell_type": "code",
   "execution_count": 58,
   "metadata": {
    "scrolled": true
   },
   "outputs": [
    {
     "name": "stdout",
     "output_type": "stream",
     "text": [
      "Epoch 1/20\n",
      "25/25 [==============================] - 9s 269ms/step - loss: 26.3026 - acc: 0.2849 - val_loss: 1.1929 - val_acc: 0.3646\n",
      "Epoch 2/20\n",
      "25/25 [==============================] - 6s 220ms/step - loss: 1.7489 - acc: 0.3167 - val_loss: 1.2524 - val_acc: 0.3854\n",
      "Epoch 3/20\n",
      "25/25 [==============================] - 6s 219ms/step - loss: 1.5490 - acc: 0.3472 - val_loss: 2.0693 - val_acc: 0.3333\n",
      "Epoch 4/20\n",
      "25/25 [==============================] - 6s 219ms/step - loss: 1.9290 - acc: 0.2911 - val_loss: 1.2904 - val_acc: 0.2917\n",
      "Epoch 5/20\n",
      "25/25 [==============================] - 6s 220ms/step - loss: 1.7435 - acc: 0.3606 - val_loss: 1.4658 - val_acc: 0.3542\n",
      "Epoch 6/20\n",
      "25/25 [==============================] - 6s 221ms/step - loss: 1.5547 - acc: 0.3313 - val_loss: 1.3176 - val_acc: 0.3750\n",
      "Epoch 7/20\n",
      "25/25 [==============================] - 6s 223ms/step - loss: 1.4233 - acc: 0.3380 - val_loss: 1.7795 - val_acc: 0.3438\n",
      "Epoch 8/20\n",
      "25/25 [==============================] - 6s 220ms/step - loss: 2.3966 - acc: 0.3089 - val_loss: 1.3014 - val_acc: 0.3646\n",
      "Epoch 9/20\n",
      "25/25 [==============================] - 6s 221ms/step - loss: 1.3477 - acc: 0.4148 - val_loss: 1.3889 - val_acc: 0.2917\n",
      "Epoch 10/20\n",
      "25/25 [==============================] - 6s 225ms/step - loss: 1.3897 - acc: 0.4173 - val_loss: 1.3265 - val_acc: 0.2500\n",
      "Epoch 11/20\n",
      "25/25 [==============================] - 7s 260ms/step - loss: 1.2260 - acc: 0.4187 - val_loss: 1.3768 - val_acc: 0.4375\n",
      "Epoch 12/20\n",
      "25/25 [==============================] - 6s 225ms/step - loss: 3.0786 - acc: 0.3918 - val_loss: 1.7190 - val_acc: 0.1979\n",
      "Epoch 13/20\n",
      "25/25 [==============================] - 6s 223ms/step - loss: 1.3434 - acc: 0.4736 - val_loss: 1.6325 - val_acc: 0.3333\n",
      "Epoch 14/20\n",
      "25/25 [==============================] - 6s 224ms/step - loss: 1.1166 - acc: 0.5534 - val_loss: 3.8981 - val_acc: 0.1771\n",
      "Epoch 15/20\n",
      "25/25 [==============================] - 6s 227ms/step - loss: 1.3556 - acc: 0.5399 - val_loss: 1.2160 - val_acc: 0.3542\n",
      "Epoch 16/20\n",
      "25/25 [==============================] - 6s 221ms/step - loss: 0.4536 - acc: 0.8488 - val_loss: 1.2251 - val_acc: 0.3958\n",
      "Epoch 17/20\n",
      "25/25 [==============================] - 6s 219ms/step - loss: 0.6550 - acc: 0.7792 - val_loss: 1.5607 - val_acc: 0.3542\n",
      "Epoch 18/20\n",
      "25/25 [==============================] - 6s 218ms/step - loss: 0.5805 - acc: 0.8295 - val_loss: 1.8913 - val_acc: 0.3229\n",
      "Epoch 19/20\n",
      "25/25 [==============================] - 6s 221ms/step - loss: 0.3268 - acc: 0.8706 - val_loss: 2.2457 - val_acc: 0.3021\n",
      "Epoch 20/20\n",
      "25/25 [==============================] - 5s 217ms/step - loss: 0.1563 - acc: 0.9409 - val_loss: 2.4749 - val_acc: 0.2604\n"
     ]
    }
   ],
   "source": [
    "history = model.fit(\n",
    "        train_generator, \n",
    "        steps_per_epoch=train_generator.n//batch_size,  \n",
    "        epochs=n_epochs,\n",
    "        validation_data=val_generator,\n",
    "        validation_steps= val_generator.n//batch_size,   \n",
    "        verbose=1)"
   ]
  },
  {
   "cell_type": "markdown",
   "metadata": {},
   "source": [
    "### Metric plots"
   ]
  },
  {
   "cell_type": "code",
   "execution_count": 59,
   "metadata": {},
   "outputs": [
    {
     "data": {
      "image/png": "[encoded data removed]",
      "text/plain": [
       "<Figure size 432x288 with 1 Axes>"
      ]
     },
     "metadata": {
      "needs_background": "light"
     },
     "output_type": "display_data"
    }
   ],
   "source": [
    "plt.plot(history.history['acc'])\n",
    "plt.plot(history.history['val_acc'])\n",
    "plt.title('model accuracy')\n",
    "plt.ylabel('accuracy')\n",
    "plt.xlabel('epoch')\n",
    "plt.legend(['train', 'val'], loc='upper left')\n",
    "plt.show()"
   ]
  },
  {
   "cell_type": "code",
   "execution_count": 60,
   "metadata": {},
   "outputs": [
    {
     "data": {
      "image/png": "[encoded data removed]",
      "text/plain": [
       "<Figure size 432x288 with 1 Axes>"
      ]
     },
     "metadata": {
      "needs_background": "light"
     },
     "output_type": "display_data"
    }
   ],
   "source": [
    "plt.plot(history.history['loss'])\n",
    "plt.plot(history.history['val_loss'])\n",
    "plt.title('model loss')\n",
    "plt.ylabel('loss')\n",
    "plt.xlabel('epoch')\n",
    "plt.legend(['train', 'val'], loc='upper left')\n",
    "plt.show()"
   ]
  },
  {
   "cell_type": "code",
   "execution_count": null,
   "metadata": {},
   "outputs": [],
   "source": []
  },
  {
   "cell_type": "markdown",
   "metadata": {},
   "source": []
  }
 ],
 "metadata": {
  "interpreter": {
   "hash": "1c0c4fde58d45373b8cabb62b30f46818c200c2e7f9d2dd7eb094879d1504b91"
  },
  "kernelspec": {
   "display_name": "tf24",
   "language": "python",
   "name": "tf24"
  },
  "language_info": {
   "codemirror_mode": {
    "name": "ipython",
    "version": 3
   },
   "file_extension": ".py",
   "mimetype": "text/x-python",
   "name": "python",
   "nbconvert_exporter": "python",
   "pygments_lexer": "ipython3",
   "version": "3.8.5"
  },
  "varInspector": {
   "cols": {
    "lenName": 16,
    "lenType": 16,
    "lenVar": 40
   },
   "kernels_config": {
    "python": {
     "delete_cmd_postfix": "",
     "delete_cmd_prefix": "del ",
     "library": "var_list.py",
     "varRefreshCmd": "print(var_dic_list())"
    },
    "r": {
     "delete_cmd_postfix": ") ",
     "delete_cmd_prefix": "rm(",
     "library": "var_list.r",
     "varRefreshCmd": "cat(var_dic_list()) "
    }
   },
   "types_to_exclude": [
    "module",
    "function",
    "builtin_function_or_method",
    "instance",
    "_Feature"
   ],
   "window_display": false
  }
 },
 "nbformat": 4,
 "nbformat_minor": 2
}
